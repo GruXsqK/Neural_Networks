{
 "cells": [
  {
   "cell_type": "markdown",
   "metadata": {
    "colab_type": "text",
    "id": "6HR-iqYz7OOY"
   },
   "source": [
    "__Вариант 1. (простой):__\n",
    "\n",
    "__* обучить сверточную нейронную сеть на датасете fashion-mnist__\n",
    "\n",
    "__* оценить рост точности при увеличении ширины сети (больше ядер)__\n",
    "\n",
    "__* оценить рост точности при увеличении глубины сети (больше слоев)__"
   ]
  },
  {
   "cell_type": "code",
   "execution_count": 1,
   "metadata": {
    "colab": {},
    "colab_type": "code",
    "id": "6AwrmixP7Szm"
   },
   "outputs": [],
   "source": [
    "import tensorflow as tf\n",
    "import numpy as np\n",
    "from tensorflow.keras.datasets import fashion_mnist"
   ]
  },
  {
   "cell_type": "code",
   "execution_count": 2,
   "metadata": {
    "colab": {},
    "colab_type": "code",
    "id": "KD3vRerf7VUZ"
   },
   "outputs": [],
   "source": [
    "(train_images, train_labels), (test_images, test_labels) = fashion_mnist.load_data()"
   ]
  },
  {
   "cell_type": "code",
   "execution_count": 3,
   "metadata": {
    "colab": {
     "base_uri": "https://localhost:8080/",
     "height": 85
    },
    "colab_type": "code",
    "id": "T6Bfq7C37YkI",
    "outputId": "7da8748c-811b-464d-ef89-4e7f59bd14dc"
   },
   "outputs": [
    {
     "name": "stdout",
     "output_type": "stream",
     "text": [
      "Размерность train_images: (60000, 28, 28)\n",
      "Размерность test_images: (10000, 28, 28)\n",
      "Значения train_labels: [0 1 2 3 4 5 6 7 8 9]\n",
      "Значения test_labels: [0 1 2 3 4 5 6 7 8 9]\n"
     ]
    }
   ],
   "source": [
    "print(f\"Размерность train_images: {train_images.shape}\")\n",
    "print(f\"Размерность test_images: {test_images.shape}\")\n",
    "\n",
    "flt_size = train_images.shape[1] * train_images.shape[2]\n",
    "\n",
    "print(f\"Значения train_labels: {np.unique(train_labels)}\")\n",
    "print(f\"Значения test_labels: {np.unique(test_labels)}\")"
   ]
  },
  {
   "cell_type": "code",
   "execution_count": 4,
   "metadata": {
    "colab": {},
    "colab_type": "code",
    "id": "hQx4byjr7aLo"
   },
   "outputs": [],
   "source": [
    "train_images = (train_images / 255) * 2 - 1\n",
    "test_images = (test_images / 255) * 2 - 1\n",
    "\n",
    "train_images = train_images.reshape(train_images.shape[0], 28, 28, 1)\n",
    "test_images = test_images.reshape(test_images.shape[0], 28, 28, 1)"
   ]
  },
  {
   "cell_type": "code",
   "execution_count": 5,
   "metadata": {
    "colab": {
     "base_uri": "https://localhost:8080/",
     "height": 187
    },
    "colab_type": "code",
    "id": "XjkMn3xH7dLg",
    "outputId": "bef0e05d-08ad-4e56-b811-8359a2298061"
   },
   "outputs": [
    {
     "name": "stdout",
     "output_type": "stream",
     "text": [
      "313/313 [==============================] - 1s 3ms/step - loss: 0.3903 - accuracy: 0.8658\n",
      "Multiplier: 1.0, test loss 0.3903, accuracy 86.58%\n",
      "313/313 [==============================] - 1s 4ms/step - loss: 0.3691 - accuracy: 0.8703\n",
      "Multiplier: 1.5, test loss 0.3691, accuracy 87.03%\n",
      "313/313 [==============================] - 1s 4ms/step - loss: 0.3531 - accuracy: 0.8748\n",
      "Multiplier: 2.0, test loss 0.3531, accuracy 87.48%\n",
      "313/313 [==============================] - 1s 4ms/step - loss: 0.3631 - accuracy: 0.8712\n",
      "Multiplier: 2.5, test loss 0.3631, accuracy 87.12%\n",
      "313/313 [==============================] - 1s 4ms/step - loss: 0.3577 - accuracy: 0.8720\n",
      "Multiplier: 3.0, test loss 0.3577, accuracy 87.20%\n"
     ]
    }
   ],
   "source": [
    "for N in np.arange(1, 3.1, 0.5):    \n",
    "    input1= tf.keras.layers.Input(shape=(28, 28, 1))\n",
    "\n",
    "    x1 = tf.keras.layers.Conv2D(int(8*N), kernel_size=(5, 5), strides=(1, 1), activation='tanh',  padding=\"same\")(input1)\n",
    "    x2 = tf.keras.layers.AveragePooling2D(pool_size=(2, 2), strides=(1, 1), padding='valid')(x1)\n",
    "    x3 = tf.keras.layers.Conv2D(int(16*N), kernel_size=(5, 5), strides=(1, 1), activation='tanh', padding='valid')(x2)\n",
    "    x4 = tf.keras.layers.AveragePooling2D(pool_size=(2, 2), strides=(2, 2), padding='valid')(x3)\n",
    "    x5 = tf.keras.layers.Conv2D(int(32*N), kernel_size=(5, 5), strides=(1, 1), activation='tanh', padding='valid')(x4)\n",
    "    x6 = tf.keras.layers.Flatten()(x5)\n",
    "    x7 = tf.keras.layers.Dense(int(20*N), activation='tanh')(x6)\n",
    "\n",
    "    out_x = tf.keras.layers.Dense(10, activation='softmax')(x7)\n",
    "\n",
    "    model = tf.keras.models.Model(inputs = input1, outputs = out_x) \n",
    "    model.compile(loss=tf.keras.losses.categorical_crossentropy, optimizer=\"Adam\", metrics=[\"accuracy\"])\n",
    "\n",
    "    hist = model.fit(train_images,\n",
    "                     tf.keras.utils.to_categorical(train_labels, 10),\n",
    "                     epochs=5,\n",
    "                     batch_size=256,\n",
    "                     validation_data=(test_images, tf.keras.utils.to_categorical(test_labels, 10)),\n",
    "                     verbose=0)\n",
    "\n",
    "    test_score = model.evaluate(test_images, tf.keras.utils.to_categorical(test_labels, 10))\n",
    "    print(f\"Multiplier: {N}, test loss {test_score[0]:.4f}, accuracy {test_score[1]:.2%}\")"
   ]
  },
  {
   "cell_type": "markdown",
   "metadata": {
    "colab_type": "text",
    "id": "dBN6-mb67hM7"
   },
   "source": [
    "Точность сети, при увеличении ее ширины растет, но не линейно, и при определенной ширине может начать уменьшаться. Сложность вычислений, при этом, растет гораздо быстрее."
   ]
  },
  {
   "cell_type": "code",
   "execution_count": 6,
   "metadata": {
    "colab": {
     "base_uri": "https://localhost:8080/",
     "height": 51
    },
    "colab_type": "code",
    "id": "EPP93jaF7jQ5",
    "outputId": "82edd768-ed76-4535-8b9c-08fcd4b49485"
   },
   "outputs": [
    {
     "name": "stdout",
     "output_type": "stream",
     "text": [
      "313/313 [==============================] - 1s 3ms/step - loss: 0.4120 - accuracy: 0.8491\n",
      "Test loss 0.4120, accuracy 84.91%\n"
     ]
    }
   ],
   "source": [
    "input1= tf.keras.layers.Input(shape=(28, 28, 1))\n",
    "\n",
    "x1 = tf.keras.layers.Conv2D(4, kernel_size=(3, 3), strides=(1, 1), activation='tanh',  padding=\"same\")(input1)\n",
    "x2 = tf.keras.layers.AveragePooling2D(pool_size=(2, 2), strides=(1, 1), padding='valid')(x1)\n",
    "x3 = tf.keras.layers.Conv2D(8, kernel_size=(3, 3), strides=(1, 1), activation='tanh', padding=\"same\")(x2)\n",
    "x4 = tf.keras.layers.AveragePooling2D(pool_size=(2, 2), strides=(2, 2), padding='valid')(x3)\n",
    "x5 = tf.keras.layers.Conv2D(12, kernel_size=(2, 2), strides=(1, 1), activation='tanh', padding=\"valid\")(x4)\n",
    "x6 = tf.keras.layers.AveragePooling2D(pool_size=(2, 2), strides=(2, 2), padding='valid')(x5)\n",
    "x7 = tf.keras.layers.Conv2D(16, kernel_size=(2, 2), strides=(1, 1), activation='tanh', padding=\"same\")(x6)\n",
    "x8 = tf.keras.layers.Flatten()(x7)\n",
    "x9 = tf.keras.layers.Dense(32, activation='tanh')(x8)\n",
    "\n",
    "out_x = tf.keras.layers.Dense(10, activation='softmax')(x9)\n",
    "\n",
    "model = tf.keras.models.Model(inputs = input1, outputs = out_x) \n",
    "model.compile(loss=tf.keras.losses.categorical_crossentropy, optimizer=\"Adam\", metrics=[\"accuracy\"])\n",
    "\n",
    "hist = model.fit(train_images,\n",
    "                 tf.keras.utils.to_categorical(train_labels, 10),\n",
    "                 epochs=5,\n",
    "                 batch_size=256,\n",
    "                 validation_data=(test_images, tf.keras.utils.to_categorical(test_labels, 10)),\n",
    "                 verbose=0)\n",
    "\n",
    "test_score = model.evaluate(test_images, tf.keras.utils.to_categorical(test_labels, 10))\n",
    "print(\"Test loss {:.4f}, accuracy {:.2f}%\".format(test_score[0], test_score[1] * 100))"
   ]
  },
  {
   "cell_type": "code",
   "execution_count": 7,
   "metadata": {
    "colab": {
     "base_uri": "https://localhost:8080/",
     "height": 51
    },
    "colab_type": "code",
    "id": "xz3AHfhr7lUC",
    "outputId": "b9e83c47-011a-4504-a209-62f7125351bf"
   },
   "outputs": [
    {
     "name": "stdout",
     "output_type": "stream",
     "text": [
      "313/313 [==============================] - 1s 3ms/step - loss: 0.4185 - accuracy: 0.8498\n",
      "Test loss 0.4185, accuracy 84.98%\n"
     ]
    }
   ],
   "source": [
    "input1= tf.keras.layers.Input(shape=(28, 28, 1))\n",
    "\n",
    "x1 = tf.keras.layers.Conv2D(4, kernel_size=(3, 3), strides=(1, 1), activation='tanh',  padding=\"same\")(input1)\n",
    "x2 = tf.keras.layers.AveragePooling2D(pool_size=(2, 2), strides=(1, 1), padding='valid')(x1)\n",
    "x3 = tf.keras.layers.Conv2D(8, kernel_size=(3, 3), strides=(1, 1), activation='tanh', padding=\"same\")(x2)\n",
    "x4 = tf.keras.layers.AveragePooling2D(pool_size=(2, 2), strides=(2, 2), padding='valid')(x3)\n",
    "x5 = tf.keras.layers.Conv2D(12, kernel_size=(2, 2), strides=(1, 1), activation='tanh', padding='valid')(x4)\n",
    "x6 = tf.keras.layers.AveragePooling2D(pool_size=(2, 2), strides=(2, 2), padding='valid')(x5)\n",
    "x7 = tf.keras.layers.Flatten()(x6)\n",
    "x8 = tf.keras.layers.Dense(32, activation='tanh')(x7)\n",
    "\n",
    "out_x = tf.keras.layers.Dense(10, activation='softmax')(x8)\n",
    "\n",
    "model = tf.keras.models.Model(inputs = input1, outputs = out_x) \n",
    "model.compile(loss=tf.keras.losses.categorical_crossentropy, optimizer=\"Adam\", metrics=[\"accuracy\"])\n",
    "\n",
    "hist = model.fit(train_images,\n",
    "                 tf.keras.utils.to_categorical(train_labels, 10),\n",
    "                 epochs=5,\n",
    "                 batch_size=256,\n",
    "                 validation_data=(test_images, tf.keras.utils.to_categorical(test_labels, 10)),\n",
    "                 verbose=0)\n",
    "\n",
    "test_score = model.evaluate(test_images, tf.keras.utils.to_categorical(test_labels, 10))\n",
    "print(\"Test loss {:.4f}, accuracy {:.2f}%\".format(test_score[0], test_score[1] * 100))"
   ]
  },
  {
   "cell_type": "code",
   "execution_count": 8,
   "metadata": {
    "colab": {
     "base_uri": "https://localhost:8080/",
     "height": 51
    },
    "colab_type": "code",
    "id": "FM0wbZ5x7nIP",
    "outputId": "4138fcaa-3859-455f-e064-153c7fa9ad80"
   },
   "outputs": [
    {
     "name": "stdout",
     "output_type": "stream",
     "text": [
      "313/313 [==============================] - 1s 3ms/step - loss: 0.3745 - accuracy: 0.8642\n",
      "Test loss 0.3745, accuracy 86.42%\n"
     ]
    }
   ],
   "source": [
    "input1= tf.keras.layers.Input(shape=(28, 28, 1))\n",
    "\n",
    "x1 = tf.keras.layers.Conv2D(4, kernel_size=(3, 3), strides=(1, 1), activation='tanh',  padding=\"same\")(input1)\n",
    "x2 = tf.keras.layers.AveragePooling2D(pool_size=(2, 2), strides=(1, 1), padding='valid')(x1)\n",
    "x3 = tf.keras.layers.Conv2D(8, kernel_size=(3, 3), strides=(1, 1), activation='tanh', padding=\"same\")(x2)\n",
    "x4 = tf.keras.layers.AveragePooling2D(pool_size=(2, 2), strides=(2, 2), padding='valid')(x3)\n",
    "x5 = tf.keras.layers.Conv2D(12, kernel_size=(2, 2), strides=(1, 1), activation='tanh', padding='valid')(x4)\n",
    "x6 = tf.keras.layers.Flatten()(x5)\n",
    "x7 = tf.keras.layers.Dense(32, activation='tanh')(x6)\n",
    "\n",
    "out_x = tf.keras.layers.Dense(10, activation='softmax')(x7)\n",
    "\n",
    "model = tf.keras.models.Model(inputs = input1, outputs = out_x) \n",
    "model.compile(loss=tf.keras.losses.categorical_crossentropy, optimizer=\"Adam\", metrics=[\"accuracy\"])\n",
    "\n",
    "hist = model.fit(train_images,\n",
    "                 tf.keras.utils.to_categorical(train_labels, 10),\n",
    "                 epochs=5,\n",
    "                 batch_size=256,\n",
    "                 validation_data=(test_images, tf.keras.utils.to_categorical(test_labels, 10)),\n",
    "                 verbose=0)\n",
    "\n",
    "test_score = model.evaluate(test_images, tf.keras.utils.to_categorical(test_labels, 10))\n",
    "print(\"Test loss {:.4f}, accuracy {:.2f}%\".format(test_score[0], test_score[1] * 100))"
   ]
  },
  {
   "cell_type": "code",
   "execution_count": 9,
   "metadata": {
    "colab": {
     "base_uri": "https://localhost:8080/",
     "height": 51
    },
    "colab_type": "code",
    "id": "prG-UTYY7o2R",
    "outputId": "065061da-4175-47ef-ea82-da3d26c7807d"
   },
   "outputs": [
    {
     "name": "stdout",
     "output_type": "stream",
     "text": [
      "313/313 [==============================] - 1s 3ms/step - loss: 0.3740 - accuracy: 0.8663\n",
      "Test loss 0.3740, accuracy 86.63%\n"
     ]
    }
   ],
   "source": [
    "input1= tf.keras.layers.Input(shape=(28, 28, 1))\n",
    "\n",
    "x1 = tf.keras.layers.Conv2D(4, kernel_size=(3, 3), strides=(1, 1), activation='tanh',  padding=\"same\")(input1)\n",
    "x2 = tf.keras.layers.AveragePooling2D(pool_size=(2, 2), strides=(1, 1), padding='valid')(x1)\n",
    "x3 = tf.keras.layers.Conv2D(8, kernel_size=(3, 3), strides=(1, 1), activation='tanh', padding=\"same\")(x2)\n",
    "x4 = tf.keras.layers.AveragePooling2D(pool_size=(2, 2), strides=(2, 2), padding='valid')(x3)\n",
    "x5 = tf.keras.layers.Flatten()(x4)\n",
    "x6 = tf.keras.layers.Dense(32, activation='tanh')(x5)\n",
    "\n",
    "out_x = tf.keras.layers.Dense(10, activation='softmax')(x6)\n",
    "\n",
    "model = tf.keras.models.Model(inputs = input1, outputs = out_x) \n",
    "model.compile(loss=tf.keras.losses.categorical_crossentropy, optimizer=\"Adam\", metrics=[\"accuracy\"])\n",
    "\n",
    "hist = model.fit(train_images,\n",
    "                 tf.keras.utils.to_categorical(train_labels, 10),\n",
    "                 epochs=5,\n",
    "                 batch_size=256,\n",
    "                 validation_data=(test_images, tf.keras.utils.to_categorical(test_labels, 10)),\n",
    "                 verbose=0)\n",
    "\n",
    "test_score = model.evaluate(test_images, tf.keras.utils.to_categorical(test_labels, 10))\n",
    "print(\"Test loss {:.4f}, accuracy {:.2f}%\".format(test_score[0], test_score[1] * 100))"
   ]
  },
  {
   "cell_type": "code",
   "execution_count": 10,
   "metadata": {
    "colab": {
     "base_uri": "https://localhost:8080/",
     "height": 51
    },
    "colab_type": "code",
    "id": "0CuDZA7g7qkL",
    "outputId": "27d8d646-c1bb-462d-9d3d-8386cc8db684"
   },
   "outputs": [
    {
     "name": "stdout",
     "output_type": "stream",
     "text": [
      "313/313 [==============================] - 1s 3ms/step - loss: 0.3772 - accuracy: 0.8659\n",
      "Test loss 0.3772, accuracy 86.59%\n"
     ]
    }
   ],
   "source": [
    "input1= tf.keras.layers.Input(shape=(28, 28, 1))\n",
    "\n",
    "x1 = tf.keras.layers.Conv2D(4, kernel_size=(3, 3), strides=(1, 1), activation='tanh',  padding=\"same\")(input1)\n",
    "x2 = tf.keras.layers.AveragePooling2D(pool_size=(2, 2), strides=(1, 1), padding='valid')(x1)\n",
    "x3 = tf.keras.layers.Conv2D(8, kernel_size=(3, 3), strides=(1, 1), activation='tanh', padding=\"same\")(x2)\n",
    "x4 = tf.keras.layers.Flatten()(x3)\n",
    "x5 = tf.keras.layers.Dense(32, activation='tanh')(x4)\n",
    "\n",
    "out_x = tf.keras.layers.Dense(10, activation='softmax')(x5)\n",
    "\n",
    "model = tf.keras.models.Model(inputs = input1, outputs = out_x) \n",
    "model.compile(loss=tf.keras.losses.categorical_crossentropy, optimizer=\"Adam\", metrics=[\"accuracy\"])\n",
    "\n",
    "hist = model.fit(train_images,\n",
    "                 tf.keras.utils.to_categorical(train_labels, 10),\n",
    "                 epochs=5,\n",
    "                 batch_size=256,\n",
    "                 validation_data=(test_images, tf.keras.utils.to_categorical(test_labels, 10)),\n",
    "                 verbose=0)\n",
    "\n",
    "test_score = model.evaluate(test_images, tf.keras.utils.to_categorical(test_labels, 10))\n",
    "print(\"Test loss {:.4f}, accuracy {:.2f}%\".format(test_score[0], test_score[1] * 100))"
   ]
  },
  {
   "cell_type": "markdown",
   "metadata": {
    "colab_type": "text",
    "id": "UiQlZJZ37sgO"
   },
   "source": [
    "С уменьшением глубины сети точность нелинейно увеличивается, это вызвано большой сверткой с бОльшим количеством слоев, что сильно уменьшает выходной тензор, слишкая малая глубина уменьшит точность. Малая глубина сети покажет неплохие результаты на простых данных, но для сложных данных потребуется больше слоев обработки."
   ]
  },
  {
   "cell_type": "markdown",
   "metadata": {
    "colab_type": "text",
    "id": "wUc-HzH97usi"
   },
   "source": [
    "__Вариант 2. (сложный)__\n",
    "\n",
    "__* реализовать нейронную сеть в схеме AlexNet на сifar10.__\n",
    "\n",
    "__* оценить рост точности при увеличении ширины сети (больше ядер)__\n",
    "\n",
    "__* оценить рост точности при увеличении глубины сети (больше слоев)__"
   ]
  },
  {
   "cell_type": "code",
   "execution_count": 11,
   "metadata": {
    "colab": {},
    "colab_type": "code",
    "id": "68Jq8NEw7wlm"
   },
   "outputs": [],
   "source": [
    "from tensorflow.keras.datasets import cifar10"
   ]
  },
  {
   "cell_type": "code",
   "execution_count": 12,
   "metadata": {
    "colab": {
     "base_uri": "https://localhost:8080/",
     "height": 68
    },
    "colab_type": "code",
    "id": "YF2CS_fB7ypw",
    "outputId": "0efa2675-4217-4adb-863f-c6a42c84f064"
   },
   "outputs": [
    {
     "name": "stdout",
     "output_type": "stream",
     "text": [
      "x_train shape: (50000, 32, 32, 3)\n",
      "50000 тренировочные примеры\n",
      "10000 тестовые примеры\n"
     ]
    }
   ],
   "source": [
    "(x_train, y_train), (x_test, y_test) = cifar10.load_data()\n",
    "\n",
    "print('x_train shape:', x_train.shape)\n",
    "print(x_train.shape[0], 'тренировочные примеры')\n",
    "print(x_test.shape[0], 'тестовые примеры')\n",
    "\n",
    "x_train = x_train.astype('float32') / 255 * 2 - 1\n",
    "x_test = x_test.astype('float32') / 255 * 2 - 1\n",
    "\n",
    "y_train = tf.keras.utils.to_categorical(y_train, 10)\n",
    "y_test = tf.keras.utils.to_categorical(y_test, 10)"
   ]
  },
  {
   "cell_type": "code",
   "execution_count": 13,
   "metadata": {
    "colab": {
     "base_uri": "https://localhost:8080/",
     "height": 221
    },
    "colab_type": "code",
    "id": "GYKYKcGp71GX",
    "outputId": "b1a92eb3-e088-43e7-8ed7-48cbb3e8e8cc"
   },
   "outputs": [
    {
     "name": "stdout",
     "output_type": "stream",
     "text": [
      "Epoch 1/5\n",
      "196/196 [==============================] - 104s 528ms/step - loss: 3.4260 - accuracy: 0.1069 - val_loss: 2.3937 - val_accuracy: 0.1004\n",
      "Epoch 2/5\n",
      "196/196 [==============================] - 101s 514ms/step - loss: 2.3665 - accuracy: 0.1082 - val_loss: 2.3465 - val_accuracy: 0.1514\n",
      "Epoch 3/5\n",
      "196/196 [==============================] - 102s 519ms/step - loss: 2.2223 - accuracy: 0.1786 - val_loss: 2.1552 - val_accuracy: 0.2148\n",
      "Epoch 4/5\n",
      "196/196 [==============================] - 102s 519ms/step - loss: 2.0143 - accuracy: 0.2268 - val_loss: 2.0671 - val_accuracy: 0.2171\n",
      "Epoch 5/5\n",
      "196/196 [==============================] - 102s 518ms/step - loss: 1.9009 - accuracy: 0.2669 - val_loss: 1.9201 - val_accuracy: 0.2450\n",
      "313/313 [==============================] - 9s 30ms/step - loss: 1.9201 - accuracy: 0.2450\n",
      "Test loss 1.9201, accuracy 24.50%\n"
     ]
    }
   ],
   "source": [
    "input1= tf.keras.layers.Input(shape=(32, 32, 3))\n",
    "\n",
    "x1 = tf.keras.layers.Conv2D(96, kernel_size=(4, 4), strides=(1, 1), activation='tanh',  padding=\"same\")(input1)\n",
    "x2 = tf.keras.layers.MaxPooling2D(pool_size=(3, 3), strides=(1, 1), padding=\"valid\")(x1)\n",
    "x3 = tf.keras.layers.Conv2D(256, kernel_size=(5, 5), strides=(1, 1), activation='tanh', padding=\"same\")(x2)\n",
    "x4 = tf.keras.layers.MaxPooling2D(pool_size=(3, 3), strides=(2, 2), padding=\"valid\")(x3)\n",
    "x5 = tf.keras.layers.Conv2D(384, kernel_size=(3, 3), strides=(1, 1), activation='tanh', padding=\"same\")(x4)\n",
    "x6 = tf.keras.layers.Conv2D(384, kernel_size=(3, 3), strides=(1, 1), activation='tanh', padding=\"same\")(x5)\n",
    "x7 = tf.keras.layers.Conv2D(256, kernel_size=(3, 3), strides=(1, 1), activation='tanh', padding=\"same\")(x6)\n",
    "x8 = tf.keras.layers.MaxPooling2D(pool_size=(3, 3), strides=(2, 2), padding=\"valid\")(x7)\n",
    "x9 = tf.keras.layers.Flatten()(x8)\n",
    "x10 = tf.keras.layers.Dense(4096, activation='tanh')(x9)\n",
    "x11 = tf.keras.layers.Dense(4096, activation='tanh')(x10)\n",
    "\n",
    "out_x = tf.keras.layers.Dense(10, activation='softmax')(x11)\n",
    "\n",
    "model = tf.keras.models.Model(inputs = input1, outputs = out_x) \n",
    "model.compile(loss=tf.keras.losses.categorical_crossentropy, optimizer=\"Adam\", metrics=[\"accuracy\"])\n",
    "\n",
    "hist = model.fit(x_train,\n",
    "                 y_train,\n",
    "                 epochs=5,\n",
    "                 batch_size=256,\n",
    "                 validation_data=(x_test, y_test),\n",
    "                 verbose=1)\n",
    "\n",
    "test_score = model.evaluate(x_test, y_test)\n",
    "print(f\"Test loss {test_score[0]:.4f}, accuracy {test_score[1]:.2%}\")"
   ]
  },
  {
   "cell_type": "markdown",
   "metadata": {
    "colab_type": "text",
    "id": "B9YMHXQ274Hc"
   },
   "source": [
    "Сеть построена на основе AlexNet. Размерность первых слоев уменьшена для входного тензора, а размерность последнего слоя - для классификации по 10 классам.\n",
    "Поведение ALexNet при увеличении ширины и глубины сети аналогична варианту 1, поэтому эксперименты над ней опустим."
   ]
  }
 ],
 "metadata": {
  "accelerator": "GPU",
  "colab": {
   "name": "Lesson_4.ipynb",
   "provenance": []
  },
  "kernelspec": {
   "display_name": "Python 3",
   "language": "python",
   "name": "python3"
  },
  "language_info": {
   "codemirror_mode": {
    "name": "ipython",
    "version": 3
   },
   "file_extension": ".py",
   "mimetype": "text/x-python",
   "name": "python",
   "nbconvert_exporter": "python",
   "pygments_lexer": "ipython3",
   "version": "3.7.6"
  }
 },
 "nbformat": 4,
 "nbformat_minor": 1
}
