{
 "cells": [
  {
   "cell_type": "markdown",
   "metadata": {
    "colab_type": "text",
    "id": "Zd6AEw6-rgt0"
   },
   "source": [
    "__Попробуйте улучшить работу нейронной сети рассмотренной в методическом пособии. Приложите анализ. Приложете лучшее сгенерированное изображение к уроку.__"
   ]
  },
  {
   "cell_type": "code",
   "execution_count": 1,
   "metadata": {
    "colab": {},
    "colab_type": "code",
    "id": "JCd5CNisrKLS"
   },
   "outputs": [],
   "source": [
    "import tensorflow as tf\n",
    "from tensorflow import keras\n",
    "from tensorflow.keras import layers\n",
    "import numpy as np\n",
    "from IPython.display import Image, display"
   ]
  },
  {
   "cell_type": "code",
   "execution_count": 2,
   "metadata": {},
   "outputs": [
    {
     "name": "stdout",
     "output_type": "stream",
     "text": [
      "Is there a GPU available:\n",
      "[PhysicalDevice(name='/physical_device:GPU:0', device_type='GPU')]\n"
     ]
    }
   ],
   "source": [
    "print(f\"Is there a GPU available:\\n{tf.config.experimental.list_physical_devices('GPU')}\")"
   ]
  },
  {
   "cell_type": "code",
   "execution_count": 3,
   "metadata": {},
   "outputs": [
    {
     "data": {
      "text/plain": [
       "(60000, 32, 32, 3)"
      ]
     },
     "execution_count": 3,
     "metadata": {},
     "output_type": "execute_result"
    }
   ],
   "source": [
    "(x_train, _), (x_test, _) = tf.keras.datasets.cifar10.load_data()\n",
    "all_cifar = np.concatenate([x_train, x_test])\n",
    "all_cifar = np.reshape(all_cifar, (-1, 32, 32, 3))\n",
    "all_cifar.shape"
   ]
  },
  {
   "cell_type": "code",
   "execution_count": 4,
   "metadata": {
    "colab": {
     "base_uri": "https://localhost:8080/",
     "height": 51
    },
    "colab_type": "code",
    "id": "WFVU8J2xrv3N",
    "outputId": "5ba9d124-d930-40e5-82ee-d753185b846e"
   },
   "outputs": [],
   "source": [
    "# Cifar10 \n",
    "batch_size = 64\n",
    "(x_train, _), (x_test, _) = tf.keras.datasets.cifar10.load_data()\n",
    "all_cifar = np.concatenate([x_train, x_test])\n",
    "all_cifar = all_cifar.astype(\"float32\") / 127.5 - 1\n",
    "dataset = tf.data.Dataset.from_tensor_slices(all_cifar)\n",
    "dataset = dataset.shuffle(buffer_size=1024).batch(batch_size).prefetch(32)"
   ]
  },
  {
   "cell_type": "code",
   "execution_count": 5,
   "metadata": {
    "colab": {
     "base_uri": "https://localhost:8080/",
     "height": 357
    },
    "colab_type": "code",
    "id": "j5-Wbapds1un",
    "outputId": "29abbb5a-59d0-4122-8cd6-241e3bb3a40c"
   },
   "outputs": [
    {
     "name": "stdout",
     "output_type": "stream",
     "text": [
      "Model: \"discriminator\"\n",
      "_________________________________________________________________\n",
      "Layer (type)                 Output Shape              Param #   \n",
      "=================================================================\n",
      "conv2d (Conv2D)              (None, 32, 32, 64)        1792      \n",
      "_________________________________________________________________\n",
      "leaky_re_lu (LeakyReLU)      (None, 32, 32, 64)        0         \n",
      "_________________________________________________________________\n",
      "conv2d_1 (Conv2D)            (None, 16, 16, 128)       73856     \n",
      "_________________________________________________________________\n",
      "leaky_re_lu_1 (LeakyReLU)    (None, 16, 16, 128)       0         \n",
      "_________________________________________________________________\n",
      "conv2d_2 (Conv2D)            (None, 8, 8, 128)         147584    \n",
      "_________________________________________________________________\n",
      "leaky_re_lu_2 (LeakyReLU)    (None, 8, 8, 128)         0         \n",
      "_________________________________________________________________\n",
      "conv2d_3 (Conv2D)            (None, 4, 4, 256)         295168    \n",
      "_________________________________________________________________\n",
      "leaky_re_lu_3 (LeakyReLU)    (None, 4, 4, 256)         0         \n",
      "_________________________________________________________________\n",
      "flatten (Flatten)            (None, 4096)              0         \n",
      "_________________________________________________________________\n",
      "dropout (Dropout)            (None, 4096)              0         \n",
      "_________________________________________________________________\n",
      "dense (Dense)                (None, 1)                 4097      \n",
      "=================================================================\n",
      "Total params: 522,497\n",
      "Trainable params: 522,497\n",
      "Non-trainable params: 0\n",
      "_________________________________________________________________\n"
     ]
    }
   ],
   "source": [
    "discriminator = keras.Sequential(\n",
    "    [\n",
    "        keras.Input(shape=(32, 32, 3)),\n",
    "        layers.Conv2D(64, (3, 3), padding=\"same\"),\n",
    "        layers.LeakyReLU(alpha=0.2),\n",
    "        layers.Conv2D(128, (3, 3), strides=(2, 2), padding=\"same\"),\n",
    "        layers.LeakyReLU(alpha=0.2),\n",
    "        layers.Conv2D(128, (3, 3), strides=(2, 2), padding=\"same\"),\n",
    "        layers.LeakyReLU(alpha=0.2),\n",
    "        layers.Conv2D(256, (3, 3), strides=(2, 2), padding=\"same\"),\n",
    "        layers.LeakyReLU(alpha=0.2),\n",
    "        layers.Flatten(),\n",
    "        layers.Dropout(0.2),\n",
    "        layers.Dense(1),\n",
    "    ],\n",
    "    name=\"discriminator\",\n",
    ")\n",
    "\n",
    "discriminator.summary()"
   ]
  },
  {
   "cell_type": "code",
   "execution_count": 6,
   "metadata": {
    "colab": {
     "base_uri": "https://localhost:8080/",
     "height": 425
    },
    "colab_type": "code",
    "id": "BtTjh35Xs7LN",
    "outputId": "7bf7be52-1391-4759-d4fa-db0f1b8a553a"
   },
   "outputs": [
    {
     "name": "stdout",
     "output_type": "stream",
     "text": [
      "Model: \"generator\"\n",
      "_________________________________________________________________\n",
      "Layer (type)                 Output Shape              Param #   \n",
      "=================================================================\n",
      "dense_1 (Dense)              (None, 4096)              266240    \n",
      "_________________________________________________________________\n",
      "leaky_re_lu_4 (LeakyReLU)    (None, 4096)              0         \n",
      "_________________________________________________________________\n",
      "reshape (Reshape)            (None, 4, 4, 256)         0         \n",
      "_________________________________________________________________\n",
      "conv2d_transpose (Conv2DTran (None, 8, 8, 128)         524416    \n",
      "_________________________________________________________________\n",
      "leaky_re_lu_5 (LeakyReLU)    (None, 8, 8, 128)         0         \n",
      "_________________________________________________________________\n",
      "conv2d_transpose_1 (Conv2DTr (None, 16, 16, 128)       262272    \n",
      "_________________________________________________________________\n",
      "leaky_re_lu_6 (LeakyReLU)    (None, 16, 16, 128)       0         \n",
      "_________________________________________________________________\n",
      "conv2d_transpose_2 (Conv2DTr (None, 32, 32, 128)       262272    \n",
      "_________________________________________________________________\n",
      "leaky_re_lu_7 (LeakyReLU)    (None, 32, 32, 128)       0         \n",
      "_________________________________________________________________\n",
      "conv2d_4 (Conv2D)            (None, 32, 32, 3)         3459      \n",
      "=================================================================\n",
      "Total params: 1,318,659\n",
      "Trainable params: 1,318,659\n",
      "Non-trainable params: 0\n",
      "_________________________________________________________________\n"
     ]
    }
   ],
   "source": [
    "latent_dim = 64\n",
    "\n",
    "generator = keras.Sequential(\n",
    "    [\n",
    "        keras.Input(shape=(latent_dim,)),\n",
    "        # строим размер входного вектора 8x8x128 map\n",
    "        layers.Dense(4 * 4 * 256),\n",
    "        layers.LeakyReLU(alpha=0.2),\n",
    "        layers.Reshape((4, 4, 256)),\n",
    "        layers.Conv2DTranspose(128, (4, 4), strides=(2, 2), padding=\"same\"),\n",
    "        layers.LeakyReLU(alpha=0.2),\n",
    "        layers.Conv2DTranspose(128, (4, 4), strides=(2, 2), padding=\"same\"),\n",
    "        layers.LeakyReLU(alpha=0.2),\n",
    "        layers.Conv2DTranspose(128, (4, 4), strides=(2, 2), padding=\"same\"),\n",
    "        layers.LeakyReLU(alpha=0.2),\n",
    "        layers.Conv2D(3, (3, 3), padding=\"same\", activation=\"tanh\"),\n",
    "    ],\n",
    "    name=\"generator\",\n",
    ")\n",
    "\n",
    "generator.summary()"
   ]
  },
  {
   "cell_type": "code",
   "execution_count": 7,
   "metadata": {
    "colab": {},
    "colab_type": "code",
    "id": "RrgpC8k-s8sq"
   },
   "outputs": [],
   "source": [
    "class GAN(keras.Model):\n",
    "    def __init__(self, discriminator, generator, latent_dim):\n",
    "        super(GAN, self).__init__()\n",
    "        self.discriminator = discriminator\n",
    "        self.generator = generator\n",
    "        self.latent_dim = latent_dim\n",
    "\n",
    "    def compile(self, d_optimizer, g_optimizer, loss_fn):\n",
    "        super(GAN, self).compile()\n",
    "        self.d_optimizer = d_optimizer\n",
    "        self.g_optimizer = g_optimizer\n",
    "        self.loss_fn = loss_fn\n",
    "\n",
    "    def train_step(self, real_images):\n",
    "        if isinstance(real_images, tuple):\n",
    "            real_images = real_images[0]\n",
    "        # берем случайный пример из скрытого пространства\n",
    "        batch_size = tf.shape(real_images)[0]\n",
    "        random_latent_vectors = tf.random.normal(shape=(batch_size, self.latent_dim))\n",
    "\n",
    "        # Строим по нему фейковое изображение\n",
    "        generated_images = self.generator(random_latent_vectors)\n",
    "\n",
    "        # собрали с реальным в тензор\n",
    "        combined_images = tf.concat([generated_images, real_images], axis=0)\n",
    "\n",
    "        # задаем метки 1 и 0 соответственно\n",
    "        labels = tf.concat(\n",
    "            [tf.ones((batch_size, 1)), tf.zeros((batch_size, 1))], axis=0\n",
    "        )\n",
    "        # Добавляем шум !!!\n",
    "        labels += 0.05 * tf.random.uniform(tf.shape(labels))\n",
    "\n",
    "        # учим discriminator\n",
    "        with tf.GradientTape() as tape:\n",
    "            predictions = self.discriminator(combined_images)\n",
    "            d_loss = self.loss_fn(labels, predictions)\n",
    "        grads = tape.gradient(d_loss, self.discriminator.trainable_weights)\n",
    "        self.d_optimizer.apply_gradients(\n",
    "            zip(grads, self.discriminator.trainable_weights)\n",
    "        )\n",
    "\n",
    "        #Выбрали случайный пример в скрытом пространстве\n",
    "        random_latent_vectors = tf.random.normal(shape=(batch_size, self.latent_dim))\n",
    "\n",
    "        # собрали метки реальных изображений\n",
    "        misleading_labels = tf.zeros((batch_size, 1))\n",
    "\n",
    "        # Учим generator !\n",
    "        with tf.GradientTape() as tape:\n",
    "            predictions = self.discriminator(self.generator(random_latent_vectors))\n",
    "            g_loss = self.loss_fn(misleading_labels, predictions)\n",
    "        grads = tape.gradient(g_loss, self.generator.trainable_weights)\n",
    "        self.g_optimizer.apply_gradients(zip(grads, self.generator.trainable_weights))\n",
    "        return {\"d_loss\": d_loss, \"g_loss\": g_loss}"
   ]
  },
  {
   "cell_type": "code",
   "execution_count": 8,
   "metadata": {
    "colab": {},
    "colab_type": "code",
    "id": "powQMMDgtDPh"
   },
   "outputs": [],
   "source": [
    "path_img = \"../data/img/\"\n",
    "\n",
    "class GANMonitor(keras.callbacks.Callback):\n",
    "    def __init__(self, num_img=3, latent_dim=128):\n",
    "        self.num_img = num_img\n",
    "        self.latent_dim = latent_dim\n",
    "\n",
    "    def on_epoch_end(self, epoch, logs=None):\n",
    "        random_latent_vectors = tf.random.normal(shape=(self.num_img, self.latent_dim))\n",
    "        generated_images = self.model.generator(random_latent_vectors)\n",
    "        generated_images *= 255\n",
    "        generated_images.numpy()\n",
    "        for i in range(self.num_img):\n",
    "            img = keras.preprocessing.image.array_to_img(generated_images[i])\n",
    "            img.save(f\"{path_img}generated_img_{i}_{epoch}.png\")"
   ]
  },
  {
   "cell_type": "code",
   "execution_count": 9,
   "metadata": {
    "colab": {
     "base_uri": "https://localhost:8080/",
     "height": 391
    },
    "colab_type": "code",
    "id": "gPzeovA4tF9z",
    "outputId": "a648f420-aa3a-4b73-de35-ce672f2f1ac1",
    "scrolled": false
   },
   "outputs": [
    {
     "name": "stdout",
     "output_type": "stream",
     "text": [
      "Epoch 1/200\n",
      "938/938 [==============================] - 199s 212ms/step - d_loss: 0.6492 - g_loss: 0.9748\n",
      "Epoch 2/200\n",
      "938/938 [==============================] - 215s 230ms/step - d_loss: 0.6666 - g_loss: 0.9188\n",
      "Epoch 3/200\n",
      "938/938 [==============================] - 220s 234ms/step - d_loss: 0.6674 - g_loss: 0.9111\n",
      "Epoch 4/200\n",
      "938/938 [==============================] - 225s 240ms/step - d_loss: 0.6503 - g_loss: 0.9676\n",
      "Epoch 5/200\n",
      "938/938 [==============================] - 224s 239ms/step - d_loss: 0.6262 - g_loss: 1.0612\n",
      "Epoch 6/200\n",
      "938/938 [==============================] - 247s 263ms/step - d_loss: 0.6582 - g_loss: 0.9184\n",
      "Epoch 7/200\n",
      "938/938 [==============================] - 242s 258ms/step - d_loss: 0.6685 - g_loss: 0.8577\n",
      "Epoch 8/200\n",
      "938/938 [==============================] - 237s 252ms/step - d_loss: 0.6765 - g_loss: 0.8298\n",
      "Epoch 9/200\n",
      "938/938 [==============================] - 230s 245ms/step - d_loss: 0.6777 - g_loss: 0.8217\n",
      "Epoch 10/200\n",
      "938/938 [==============================] - 272s 289ms/step - d_loss: 0.6794 - g_loss: 0.8133\n",
      "Epoch 11/200\n",
      "938/938 [==============================] - 266s 284ms/step - d_loss: 0.6795 - g_loss: 0.8162\n",
      "Epoch 12/200\n",
      "938/938 [==============================] - 221s 236ms/step - d_loss: 0.6808 - g_loss: 0.8114\n",
      "Epoch 13/200\n",
      "938/938 [==============================] - 226s 241ms/step - d_loss: 0.6783 - g_loss: 0.8191\n",
      "Epoch 14/200\n",
      "938/938 [==============================] - 227s 242ms/step - d_loss: 0.6780 - g_loss: 0.8129\n",
      "Epoch 15/200\n",
      "938/938 [==============================] - 227s 242ms/step - d_loss: 0.6755 - g_loss: 0.8274\n",
      "Epoch 16/200\n",
      "938/938 [==============================] - 227s 242ms/step - d_loss: 0.6758 - g_loss: 0.8235\n",
      "Epoch 17/200\n",
      "938/938 [==============================] - 227s 242ms/step - d_loss: 0.6768 - g_loss: 0.8170\n",
      "Epoch 18/200\n",
      "938/938 [==============================] - 227s 242ms/step - d_loss: 0.6759 - g_loss: 0.8149\n",
      "Epoch 19/200\n",
      "938/938 [==============================] - 227s 242ms/step - d_loss: 0.6755 - g_loss: 0.8249\n",
      "Epoch 20/200\n",
      "938/938 [==============================] - 227s 242ms/step - d_loss: 0.6748 - g_loss: 0.8202\n",
      "Epoch 21/200\n",
      "938/938 [==============================] - 227s 242ms/step - d_loss: 0.6743 - g_loss: 0.8186\n",
      "Epoch 22/200\n",
      "938/938 [==============================] - 227s 242ms/step - d_loss: 0.6727 - g_loss: 0.8284\n",
      "Epoch 23/200\n",
      "938/938 [==============================] - 227s 242ms/step - d_loss: 0.6711 - g_loss: 0.8263\n",
      "Epoch 24/200\n",
      "938/938 [==============================] - 227s 242ms/step - d_loss: 0.6698 - g_loss: 0.8349\n",
      "Epoch 25/200\n",
      "938/938 [==============================] - 227s 242ms/step - d_loss: 0.6669 - g_loss: 0.8400\n",
      "Epoch 26/200\n",
      "938/938 [==============================] - 227s 242ms/step - d_loss: 0.6634 - g_loss: 0.8496\n",
      "Epoch 27/200\n",
      "938/938 [==============================] - 227s 242ms/step - d_loss: 0.6600 - g_loss: 0.8534\n",
      "Epoch 28/200\n",
      "938/938 [==============================] - 227s 242ms/step - d_loss: 0.6556 - g_loss: 0.8676\n",
      "Epoch 29/200\n",
      "938/938 [==============================] - 227s 243ms/step - d_loss: 0.6522 - g_loss: 0.8769\n",
      "Epoch 30/200\n",
      "938/938 [==============================] - 227s 242ms/step - d_loss: 0.6472 - g_loss: 0.8833\n",
      "Epoch 31/200\n",
      "938/938 [==============================] - 227s 242ms/step - d_loss: 0.6444 - g_loss: 0.8969\n",
      "Epoch 32/200\n",
      "938/938 [==============================] - 227s 242ms/step - d_loss: 0.6395 - g_loss: 0.9064\n",
      "Epoch 33/200\n",
      "938/938 [==============================] - 227s 242ms/step - d_loss: 0.6369 - g_loss: 0.9191\n",
      "Epoch 34/200\n",
      "938/938 [==============================] - 227s 242ms/step - d_loss: 0.6335 - g_loss: 0.9208\n",
      "Epoch 35/200\n",
      "938/938 [==============================] - 227s 242ms/step - d_loss: 0.6300 - g_loss: 0.9348\n",
      "Epoch 36/200\n",
      "938/938 [==============================] - 227s 242ms/step - d_loss: 0.6260 - g_loss: 0.9408\n",
      "Epoch 37/200\n",
      "938/938 [==============================] - 227s 242ms/step - d_loss: 0.6244 - g_loss: 0.9494\n",
      "Epoch 38/200\n",
      "938/938 [==============================] - 227s 242ms/step - d_loss: 0.6192 - g_loss: 0.9629\n",
      "Epoch 39/200\n",
      "938/938 [==============================] - 227s 242ms/step - d_loss: 0.6144 - g_loss: 0.9715\n",
      "Epoch 40/200\n",
      "938/938 [==============================] - 227s 242ms/step - d_loss: 0.6101 - g_loss: 0.9841\n",
      "Epoch 41/200\n",
      "938/938 [==============================] - 227s 242ms/step - d_loss: 0.6066 - g_loss: 0.9931\n",
      "Epoch 42/200\n",
      "938/938 [==============================] - 246s 262ms/step - d_loss: 0.6007 - g_loss: 1.0124\n",
      "Epoch 43/200\n",
      "938/938 [==============================] - 224s 239ms/step - d_loss: 0.5987 - g_loss: 1.0158\n",
      "Epoch 44/200\n",
      "938/938 [==============================] - 227s 242ms/step - d_loss: 0.5939 - g_loss: 1.0336\n",
      "Epoch 45/200\n",
      "938/938 [==============================] - 227s 242ms/step - d_loss: 0.5912 - g_loss: 1.0428\n",
      "Epoch 46/200\n",
      "938/938 [==============================] - 227s 242ms/step - d_loss: 0.5857 - g_loss: 1.0603\n",
      "Epoch 47/200\n",
      "938/938 [==============================] - 227s 242ms/step - d_loss: 0.5796 - g_loss: 1.0725\n",
      "Epoch 48/200\n",
      "938/938 [==============================] - 227s 242ms/step - d_loss: 0.5757 - g_loss: 1.0860\n",
      "Epoch 49/200\n",
      "938/938 [==============================] - 227s 242ms/step - d_loss: 0.5719 - g_loss: 1.0966\n",
      "Epoch 50/200\n",
      "938/938 [==============================] - 227s 242ms/step - d_loss: 0.5684 - g_loss: 1.1070\n",
      "Epoch 51/200\n",
      "938/938 [==============================] - 227s 242ms/step - d_loss: 0.5625 - g_loss: 1.1284\n",
      "Epoch 52/200\n",
      "938/938 [==============================] - 227s 242ms/step - d_loss: 0.5574 - g_loss: 1.1418\n",
      "Epoch 53/200\n",
      "938/938 [==============================] - 227s 242ms/step - d_loss: 0.5528 - g_loss: 1.1580\n",
      "Epoch 54/200\n",
      "938/938 [==============================] - 227s 242ms/step - d_loss: 0.5485 - g_loss: 1.1682\n",
      "Epoch 55/200\n",
      "938/938 [==============================] - 227s 242ms/step - d_loss: 0.5439 - g_loss: 1.1955\n",
      "Epoch 56/200\n",
      "938/938 [==============================] - 227s 242ms/step - d_loss: 0.5427 - g_loss: 1.1992\n",
      "Epoch 57/200\n",
      "938/938 [==============================] - 227s 242ms/step - d_loss: 0.5351 - g_loss: 1.2124\n",
      "Epoch 58/200\n",
      "938/938 [==============================] - 227s 242ms/step - d_loss: 0.5332 - g_loss: 1.2316\n",
      "Epoch 59/200\n",
      "938/938 [==============================] - 227s 242ms/step - d_loss: 0.5290 - g_loss: 1.2375\n",
      "Epoch 60/200\n",
      "938/938 [==============================] - 227s 242ms/step - d_loss: 0.5249 - g_loss: 1.2612\n",
      "Epoch 61/200\n",
      "938/938 [==============================] - 227s 242ms/step - d_loss: 0.5211 - g_loss: 1.2744\n",
      "Epoch 62/200\n",
      "938/938 [==============================] - 226s 241ms/step - d_loss: 0.5164 - g_loss: 1.2853\n",
      "Epoch 63/200\n",
      "938/938 [==============================] - 227s 242ms/step - d_loss: 0.5125 - g_loss: 1.3078\n",
      "Epoch 64/200\n",
      "938/938 [==============================] - 227s 242ms/step - d_loss: 0.5068 - g_loss: 1.3132\n",
      "Epoch 65/200\n",
      "938/938 [==============================] - 227s 242ms/step - d_loss: 0.5031 - g_loss: 1.3320\n",
      "Epoch 66/200\n",
      "938/938 [==============================] - 226s 241ms/step - d_loss: 0.4975 - g_loss: 1.3579\n",
      "Epoch 67/200\n",
      "938/938 [==============================] - 254s 270ms/step - d_loss: 0.4928 - g_loss: 1.3714\n",
      "Epoch 68/200\n",
      "938/938 [==============================] - 223s 238ms/step - d_loss: 0.4889 - g_loss: 1.3942\n",
      "Epoch 69/200\n",
      "938/938 [==============================] - 227s 242ms/step - d_loss: 0.4910 - g_loss: 1.3989\n",
      "Epoch 70/200\n",
      "938/938 [==============================] - 226s 241ms/step - d_loss: 0.4842 - g_loss: 1.4155\n",
      "Epoch 71/200\n",
      "938/938 [==============================] - 227s 241ms/step - d_loss: 0.4802 - g_loss: 1.4324\n",
      "Epoch 72/200\n",
      "938/938 [==============================] - 227s 242ms/step - d_loss: 0.4766 - g_loss: 1.4346\n",
      "Epoch 73/200\n",
      "938/938 [==============================] - 226s 241ms/step - d_loss: 0.4743 - g_loss: 1.4524\n",
      "Epoch 74/200\n",
      "938/938 [==============================] - 227s 242ms/step - d_loss: 0.4720 - g_loss: 1.4733\n",
      "Epoch 75/200\n",
      "938/938 [==============================] - 227s 242ms/step - d_loss: 0.4645 - g_loss: 1.4898\n",
      "Epoch 76/200\n",
      "938/938 [==============================] - 226s 241ms/step - d_loss: 0.4641 - g_loss: 1.4990\n",
      "Epoch 77/200\n",
      "938/938 [==============================] - 227s 242ms/step - d_loss: 0.4603 - g_loss: 1.5151\n",
      "Epoch 78/200\n"
     ]
    },
    {
     "name": "stdout",
     "output_type": "stream",
     "text": [
      "938/938 [==============================] - 227s 242ms/step - d_loss: 0.4556 - g_loss: 1.5285\n",
      "Epoch 79/200\n",
      "938/938 [==============================] - 226s 241ms/step - d_loss: 0.4535 - g_loss: 1.5384\n",
      "Epoch 80/200\n",
      "938/938 [==============================] - 226s 241ms/step - d_loss: 0.4490 - g_loss: 1.5616\n",
      "Epoch 81/200\n",
      "938/938 [==============================] - 227s 242ms/step - d_loss: 0.4488 - g_loss: 1.5716\n",
      "Epoch 82/200\n",
      "938/938 [==============================] - 227s 242ms/step - d_loss: 0.4455 - g_loss: 1.5782\n",
      "Epoch 83/200\n",
      "938/938 [==============================] - 226s 241ms/step - d_loss: 0.4454 - g_loss: 1.6042\n",
      "Epoch 84/200\n",
      "938/938 [==============================] - 227s 242ms/step - d_loss: 0.4415 - g_loss: 1.6154\n",
      "Epoch 85/200\n",
      "938/938 [==============================] - 227s 242ms/step - d_loss: 0.4379 - g_loss: 1.6280\n",
      "Epoch 86/200\n",
      "938/938 [==============================] - 227s 242ms/step - d_loss: 0.4342 - g_loss: 1.6412\n",
      "Epoch 87/200\n",
      "938/938 [==============================] - 227s 242ms/step - d_loss: 0.4338 - g_loss: 1.6460\n",
      "Epoch 88/200\n",
      "938/938 [==============================] - 227s 242ms/step - d_loss: 0.4286 - g_loss: 1.6776\n",
      "Epoch 89/200\n",
      "938/938 [==============================] - 227s 242ms/step - d_loss: 0.4264 - g_loss: 1.6771\n",
      "Epoch 90/200\n",
      "938/938 [==============================] - 227s 242ms/step - d_loss: 0.4247 - g_loss: 1.6822\n",
      "Epoch 91/200\n",
      "938/938 [==============================] - 269s 287ms/step - d_loss: 0.4234 - g_loss: 1.7087\n",
      "Epoch 92/200\n",
      "938/938 [==============================] - 228s 243ms/step - d_loss: 0.4178 - g_loss: 1.7126\n",
      "Epoch 93/200\n",
      "938/938 [==============================] - 225s 240ms/step - d_loss: 0.4162 - g_loss: 1.7263\n",
      "Epoch 94/200\n",
      "938/938 [==============================] - 232s 247ms/step - d_loss: 0.4126 - g_loss: 1.7448\n",
      "Epoch 95/200\n",
      "938/938 [==============================] - 232s 247ms/step - d_loss: 0.4140 - g_loss: 1.7511\n",
      "Epoch 96/200\n",
      "938/938 [==============================] - 230s 246ms/step - d_loss: 0.4067 - g_loss: 1.7631\n",
      "Epoch 97/200\n",
      "938/938 [==============================] - 231s 246ms/step - d_loss: 0.4044 - g_loss: 1.7936\n",
      "Epoch 98/200\n",
      "938/938 [==============================] - 236s 252ms/step - d_loss: 0.4044 - g_loss: 1.7936\n",
      "Epoch 99/200\n",
      "938/938 [==============================] - 230s 245ms/step - d_loss: 0.4014 - g_loss: 1.8175\n",
      "Epoch 100/200\n",
      "938/938 [==============================] - 245s 261ms/step - d_loss: 0.3933 - g_loss: 1.8298\n",
      "Epoch 101/200\n",
      "938/938 [==============================] - 221s 235ms/step - d_loss: 0.3934 - g_loss: 1.8441\n",
      "Epoch 102/200\n",
      "938/938 [==============================] - 228s 243ms/step - d_loss: 0.3968 - g_loss: 1.8503\n",
      "Epoch 103/200\n",
      "938/938 [==============================] - 221s 236ms/step - d_loss: 0.3902 - g_loss: 1.8775\n",
      "Epoch 104/200\n",
      "938/938 [==============================] - 222s 236ms/step - d_loss: 0.3870 - g_loss: 1.8954\n",
      "Epoch 105/200\n",
      "938/938 [==============================] - 243s 259ms/step - d_loss: 0.3844 - g_loss: 1.8903\n",
      "Epoch 106/200\n",
      "938/938 [==============================] - 219s 234ms/step - d_loss: 0.3810 - g_loss: 1.9194\n",
      "Epoch 107/200\n",
      "938/938 [==============================] - 227s 241ms/step - d_loss: 0.3799 - g_loss: 1.9293\n",
      "Epoch 108/200\n",
      "938/938 [==============================] - 221s 235ms/step - d_loss: 0.3751 - g_loss: 1.9494\n",
      "Epoch 109/200\n",
      "938/938 [==============================] - 227s 242ms/step - d_loss: 0.3718 - g_loss: 1.9704\n",
      "Epoch 110/200\n",
      "938/938 [==============================] - 224s 238ms/step - d_loss: 0.3727 - g_loss: 1.9598\n",
      "Epoch 111/200\n",
      "938/938 [==============================] - 221s 236ms/step - d_loss: 0.3773 - g_loss: 1.9700\n",
      "Epoch 112/200\n",
      "938/938 [==============================] - 222s 236ms/step - d_loss: 0.3678 - g_loss: 2.0042\n",
      "Epoch 113/200\n",
      "938/938 [==============================] - 227s 242ms/step - d_loss: 0.3652 - g_loss: 2.0097\n",
      "Epoch 114/200\n",
      "938/938 [==============================] - 221s 235ms/step - d_loss: 0.3647 - g_loss: 2.0232\n",
      "Epoch 115/200\n",
      "938/938 [==============================] - 227s 242ms/step - d_loss: 0.3600 - g_loss: 2.0494\n",
      "Epoch 116/200\n",
      "938/938 [==============================] - 225s 239ms/step - d_loss: 0.3600 - g_loss: 2.0578\n",
      "Epoch 117/200\n",
      "938/938 [==============================] - 220s 235ms/step - d_loss: 0.3571 - g_loss: 2.0909\n",
      "Epoch 118/200\n",
      "938/938 [==============================] - 221s 236ms/step - d_loss: 0.3546 - g_loss: 2.0974\n",
      "Epoch 119/200\n",
      "938/938 [==============================] - 227s 242ms/step - d_loss: 0.3530 - g_loss: 2.1097\n",
      "Epoch 120/200\n",
      "938/938 [==============================] - 220s 235ms/step - d_loss: 0.3476 - g_loss: 2.1141\n",
      "Epoch 121/200\n",
      "938/938 [==============================] - 222s 236ms/step - d_loss: 0.3484 - g_loss: 2.1379\n",
      "Epoch 122/200\n",
      "938/938 [==============================] - 221s 236ms/step - d_loss: 0.3445 - g_loss: 2.1404\n",
      "Epoch 123/200\n",
      "938/938 [==============================] - 226s 241ms/step - d_loss: 0.3433 - g_loss: 2.1721\n",
      "Epoch 124/200\n",
      "938/938 [==============================] - 220s 234ms/step - d_loss: 0.3403 - g_loss: 2.1748\n",
      "Epoch 125/200\n",
      "938/938 [==============================] - 221s 236ms/step - d_loss: 0.3394 - g_loss: 2.1955\n",
      "Epoch 126/200\n",
      "938/938 [==============================] - 221s 236ms/step - d_loss: 0.3363 - g_loss: 2.2012\n",
      "Epoch 127/200\n",
      "938/938 [==============================] - 221s 236ms/step - d_loss: 0.3361 - g_loss: 2.2192\n",
      "Epoch 128/200\n",
      "938/938 [==============================] - 227s 242ms/step - d_loss: 0.3278 - g_loss: 2.2451\n",
      "Epoch 129/200\n",
      "938/938 [==============================] - 220s 235ms/step - d_loss: 0.3308 - g_loss: 2.2567\n",
      "Epoch 130/200\n",
      "938/938 [==============================] - 221s 236ms/step - d_loss: 0.3309 - g_loss: 2.2775\n",
      "Epoch 131/200\n",
      "938/938 [==============================] - 221s 235ms/step - d_loss: 0.3236 - g_loss: 2.2968\n",
      "Epoch 132/200\n",
      "938/938 [==============================] - 221s 236ms/step - d_loss: 0.3237 - g_loss: 2.3097\n",
      "Epoch 133/200\n",
      "938/938 [==============================] - 221s 236ms/step - d_loss: 0.3187 - g_loss: 2.3319\n",
      "Epoch 134/200\n",
      "938/938 [==============================] - 221s 235ms/step - d_loss: 0.3199 - g_loss: 2.3328\n",
      "Epoch 135/200\n",
      "938/938 [==============================] - 221s 236ms/step - d_loss: 0.3156 - g_loss: 2.3529\n",
      "Epoch 136/200\n",
      "938/938 [==============================] - 221s 235ms/step - d_loss: 0.3115 - g_loss: 2.3756\n",
      "Epoch 137/200\n",
      "938/938 [==============================] - 221s 236ms/step - d_loss: 0.3166 - g_loss: 2.3897\n",
      "Epoch 138/200\n",
      "938/938 [==============================] - 221s 236ms/step - d_loss: 0.3069 - g_loss: 2.4031\n",
      "Epoch 139/200\n",
      "938/938 [==============================] - 221s 235ms/step - d_loss: 0.3090 - g_loss: 2.4261\n",
      "Epoch 140/200\n",
      "938/938 [==============================] - 220s 235ms/step - d_loss: 0.3059 - g_loss: 2.4438\n",
      "Epoch 141/200\n",
      "938/938 [==============================] - 220s 235ms/step - d_loss: 0.3043 - g_loss: 2.4654\n",
      "Epoch 142/200\n",
      "938/938 [==============================] - 220s 234ms/step - d_loss: 0.2989 - g_loss: 2.4644\n",
      "Epoch 143/200\n",
      "938/938 [==============================] - 220s 235ms/step - d_loss: 0.3006 - g_loss: 2.4784\n",
      "Epoch 144/200\n",
      "938/938 [==============================] - 220s 235ms/step - d_loss: 0.2916 - g_loss: 2.5267\n",
      "Epoch 145/200\n",
      "938/938 [==============================] - 221s 235ms/step - d_loss: 0.2939 - g_loss: 2.5351\n",
      "Epoch 146/200\n",
      "938/938 [==============================] - 219s 234ms/step - d_loss: 0.2956 - g_loss: 2.5476\n",
      "Epoch 147/200\n",
      "938/938 [==============================] - 220s 235ms/step - d_loss: 0.2908 - g_loss: 2.5621\n",
      "Epoch 148/200\n",
      "938/938 [==============================] - 219s 234ms/step - d_loss: 0.2937 - g_loss: 2.5630\n",
      "Epoch 149/200\n",
      "938/938 [==============================] - 220s 235ms/step - d_loss: 0.2891 - g_loss: 2.5879\n",
      "Epoch 150/200\n",
      "938/938 [==============================] - 220s 234ms/step - d_loss: 0.2859 - g_loss: 2.6090\n",
      "Epoch 151/200\n",
      "938/938 [==============================] - 220s 235ms/step - d_loss: 0.2907 - g_loss: 2.5965\n",
      "Epoch 152/200\n",
      "938/938 [==============================] - 219s 234ms/step - d_loss: 0.2797 - g_loss: 2.6458\n",
      "Epoch 153/200\n",
      "938/938 [==============================] - 221s 235ms/step - d_loss: 0.2805 - g_loss: 2.6670\n",
      "Epoch 154/200\n"
     ]
    },
    {
     "name": "stdout",
     "output_type": "stream",
     "text": [
      "938/938 [==============================] - 221s 236ms/step - d_loss: 0.2831 - g_loss: 2.6702\n",
      "Epoch 155/200\n",
      "938/938 [==============================] - 219s 233ms/step - d_loss: 0.2786 - g_loss: 2.7102\n",
      "Epoch 156/200\n",
      "938/938 [==============================] - 220s 235ms/step - d_loss: 0.2743 - g_loss: 2.7478\n",
      "Epoch 157/200\n",
      "938/938 [==============================] - 218s 232ms/step - d_loss: 0.2748 - g_loss: 2.7238\n",
      "Epoch 158/200\n",
      "938/938 [==============================] - 221s 236ms/step - d_loss: 0.2763 - g_loss: 2.7413\n",
      "Epoch 159/200\n",
      "938/938 [==============================] - 218s 233ms/step - d_loss: 0.2714 - g_loss: 2.7528\n",
      "Epoch 160/200\n",
      "938/938 [==============================] - 218s 233ms/step - d_loss: 0.2725 - g_loss: 2.7709\n",
      "Epoch 161/200\n",
      "938/938 [==============================] - 222s 236ms/step - d_loss: 0.2678 - g_loss: 2.8071\n",
      "Epoch 162/200\n",
      "938/938 [==============================] - 218s 232ms/step - d_loss: 0.2633 - g_loss: 2.8226\n",
      "Epoch 163/200\n",
      "938/938 [==============================] - 222s 236ms/step - d_loss: 0.2674 - g_loss: 2.8434\n",
      "Epoch 164/200\n",
      "938/938 [==============================] - 218s 232ms/step - d_loss: 0.2702 - g_loss: 2.8223\n",
      "Epoch 165/200\n",
      "938/938 [==============================] - 222s 236ms/step - d_loss: 0.2648 - g_loss: 2.8807\n",
      "Epoch 166/200\n",
      "938/938 [==============================] - 218s 233ms/step - d_loss: 0.2547 - g_loss: 2.8879\n",
      "Epoch 167/200\n",
      "938/938 [==============================] - 218s 233ms/step - d_loss: 0.2620 - g_loss: 2.9040\n",
      "Epoch 168/200\n",
      "938/938 [==============================] - 222s 236ms/step - d_loss: 0.2618 - g_loss: 2.8892\n",
      "Epoch 169/200\n",
      "938/938 [==============================] - 218s 233ms/step - d_loss: 0.2586 - g_loss: 2.9364\n",
      "Epoch 170/200\n",
      "938/938 [==============================] - 222s 236ms/step - d_loss: 0.2564 - g_loss: 2.9353\n",
      "Epoch 171/200\n",
      "938/938 [==============================] - 220s 235ms/step - d_loss: 0.2612 - g_loss: 2.9288\n",
      "Epoch 172/200\n",
      "938/938 [==============================] - 218s 232ms/step - d_loss: 0.2599 - g_loss: 2.9493\n",
      "Epoch 173/200\n",
      "938/938 [==============================] - 222s 236ms/step - d_loss: 0.2522 - g_loss: 2.9916\n",
      "Epoch 174/200\n",
      "938/938 [==============================] - 219s 233ms/step - d_loss: 0.2547 - g_loss: 3.0061\n",
      "Epoch 175/200\n",
      "938/938 [==============================] - 220s 234ms/step - d_loss: 0.2554 - g_loss: 3.0129\n",
      "Epoch 176/200\n",
      "938/938 [==============================] - 218s 232ms/step - d_loss: 0.2535 - g_loss: 3.0077\n",
      "Epoch 177/200\n",
      "938/938 [==============================] - 222s 236ms/step - d_loss: 0.2609 - g_loss: 3.0035\n",
      "Epoch 178/200\n",
      "938/938 [==============================] - 219s 233ms/step - d_loss: 0.2611 - g_loss: 3.0067\n",
      "Epoch 179/200\n",
      "938/938 [==============================] - 219s 234ms/step - d_loss: 0.2542 - g_loss: 3.0420\n",
      "Epoch 180/200\n",
      "938/938 [==============================] - 221s 235ms/step - d_loss: 0.2482 - g_loss: 3.0500\n",
      "Epoch 181/200\n",
      "938/938 [==============================] - 220s 234ms/step - d_loss: 0.2576 - g_loss: 3.0607\n",
      "Epoch 182/200\n",
      "938/938 [==============================] - 219s 234ms/step - d_loss: 0.2560 - g_loss: 3.0660\n",
      "Epoch 183/200\n",
      "938/938 [==============================] - 220s 235ms/step - d_loss: 0.2502 - g_loss: 3.0995\n",
      "Epoch 184/200\n",
      "938/938 [==============================] - 219s 234ms/step - d_loss: 0.2514 - g_loss: 3.1016\n",
      "Epoch 185/200\n",
      "938/938 [==============================] - 219s 234ms/step - d_loss: 0.2495 - g_loss: 3.0950\n",
      "Epoch 186/200\n",
      "938/938 [==============================] - 220s 235ms/step - d_loss: 0.2486 - g_loss: 3.1139\n",
      "Epoch 187/200\n",
      "938/938 [==============================] - 221s 235ms/step - d_loss: 0.2493 - g_loss: 3.1370\n",
      "Epoch 188/200\n",
      "938/938 [==============================] - 221s 236ms/step - d_loss: 0.2498 - g_loss: 3.1311\n",
      "Epoch 189/200\n",
      "938/938 [==============================] - 219s 233ms/step - d_loss: 0.2484 - g_loss: 3.1419\n",
      "Epoch 190/200\n",
      "938/938 [==============================] - 219s 233ms/step - d_loss: 0.2475 - g_loss: 3.1721\n",
      "Epoch 191/200\n",
      "938/938 [==============================] - 221s 236ms/step - d_loss: 0.2428 - g_loss: 3.1855\n",
      "Epoch 192/200\n",
      "938/938 [==============================] - 219s 234ms/step - d_loss: 0.2473 - g_loss: 3.1757\n",
      "Epoch 193/200\n",
      "938/938 [==============================] - 218s 233ms/step - d_loss: 0.2443 - g_loss: 3.1822\n",
      "Epoch 194/200\n",
      "938/938 [==============================] - 222s 236ms/step - d_loss: 0.2459 - g_loss: 3.2150\n",
      "Epoch 195/200\n",
      "938/938 [==============================] - 218s 233ms/step - d_loss: 0.2483 - g_loss: 3.1904\n",
      "Epoch 196/200\n",
      "938/938 [==============================] - 222s 236ms/step - d_loss: 0.2451 - g_loss: 3.2433\n",
      "Epoch 197/200\n",
      "938/938 [==============================] - 219s 234ms/step - d_loss: 0.2403 - g_loss: 3.2347\n",
      "Epoch 198/200\n",
      "938/938 [==============================] - 219s 234ms/step - d_loss: 0.2337 - g_loss: 3.2910\n",
      "Epoch 199/200\n",
      "938/938 [==============================] - 220s 234ms/step - d_loss: 0.2395 - g_loss: 3.2783\n",
      "Epoch 200/200\n",
      "938/938 [==============================] - 221s 235ms/step - d_loss: 0.2350 - g_loss: 3.2940\n"
     ]
    },
    {
     "data": {
      "text/plain": [
       "<tensorflow.python.keras.callbacks.History at 0x2c70fe83490>"
      ]
     },
     "execution_count": 9,
     "metadata": {},
     "output_type": "execute_result"
    }
   ],
   "source": [
    "epochs = 200\n",
    "img_nums = 5\n",
    "\n",
    "gan = GAN(discriminator=discriminator, generator=generator, latent_dim=latent_dim)\n",
    "gan.compile(\n",
    "    d_optimizer=keras.optimizers.Adam(learning_rate=0.0002, beta_1=0.5),\n",
    "    g_optimizer=keras.optimizers.Adam(learning_rate=0.0004, beta_1=0.5),\n",
    "    loss_fn=keras.losses.BinaryCrossentropy(from_logits=True),\n",
    ")\n",
    "\n",
    "gan.fit(\n",
    "    dataset, \n",
    "    epochs=epochs, \n",
    "    callbacks=[GANMonitor(num_img=img_nums, latent_dim=latent_dim)]\n",
    ")"
   ]
  },
  {
   "cell_type": "code",
   "execution_count": 10,
   "metadata": {
    "colab": {},
    "colab_type": "code",
    "id": "NkoMaWSgtJ-x"
   },
   "outputs": [
    {
     "data": {
      "image/png": "[encoded data removed]",
      "text/plain": [
       "<IPython.core.display.Image object>"
      ]
     },
     "metadata": {
      "image/png": {
       "height": 160,
       "width": 160
      }
     },
     "output_type": "display_data"
    },
    {
     "name": "stdout",
     "output_type": "stream",
     "text": [
      "img=0, epoch=200\n"
     ]
    },
    {
     "data": {
      "image/png": "[encoded data removed]",
      "text/plain": [
       "<IPython.core.display.Image object>"
      ]
     },
     "metadata": {
      "image/png": {
       "height": 160,
       "width": 160
      }
     },
     "output_type": "display_data"
    },
    {
     "name": "stdout",
     "output_type": "stream",
     "text": [
      "img=1, epoch=200\n"
     ]
    },
    {
     "data": {
      "image/png": "[encoded data removed]",
      "text/plain": [
       "<IPython.core.display.Image object>"
      ]
     },
     "metadata": {
      "image/png": {
       "height": 160,
       "width": 160
      }
     },
     "output_type": "display_data"
    },
    {
     "name": "stdout",
     "output_type": "stream",
     "text": [
      "img=2, epoch=200\n"
     ]
    },
    {
     "data": {
      "image/png": "[encoded data removed]",
      "text/plain": [
       "<IPython.core.display.Image object>"
      ]
     },
     "metadata": {
      "image/png": {
       "height": 160,
       "width": 160
      }
     },
     "output_type": "display_data"
    },
    {
     "name": "stdout",
     "output_type": "stream",
     "text": [
      "img=3, epoch=200\n"
     ]
    },
    {
     "data": {
      "image/png": "[encoded data removed]",
      "text/plain": [
       "<IPython.core.display.Image object>"
      ]
     },
     "metadata": {
      "image/png": {
       "height": 160,
       "width": 160
      }
     },
     "output_type": "display_data"
    },
    {
     "name": "stdout",
     "output_type": "stream",
     "text": [
      "img=4, epoch=200\n"
     ]
    }
   ],
   "source": [
    "for i in range(img_nums):\n",
    "    display(Image(f\"{path_img}generated_img_{i}_{epochs-1}.png\", width=160, height=160))\n",
    "    print(f\"img={i}, epoch={epochs}\")"
   ]
  },
  {
   "cell_type": "code",
   "execution_count": 11,
   "metadata": {
    "colab": {},
    "colab_type": "code",
    "id": "HYhR_xOItMjS"
   },
   "outputs": [
    {
     "data": {
      "image/png": "[encoded data removed]",
      "text/plain": [
       "<IPython.core.display.Image object>"
      ]
     },
     "metadata": {
      "image/png": {
       "height": 160,
       "width": 160
      }
     },
     "output_type": "display_data"
    },
    {
     "name": "stdout",
     "output_type": "stream",
     "text": [
      "img=0, epoch=40\n"
     ]
    },
    {
     "data": {
      "image/png": "[encoded data removed]",
      "text/plain": [
       "<IPython.core.display.Image object>"
      ]
     },
     "metadata": {
      "image/png": {
       "height": 160,
       "width": 160
      }
     },
     "output_type": "display_data"
    },
    {
     "name": "stdout",
     "output_type": "stream",
     "text": [
      "img=0, epoch=80\n"
     ]
    },
    {
     "data": {
      "image/png": "[encoded data removed]",
      "text/plain": [
       "<IPython.core.display.Image object>"
      ]
     },
     "metadata": {
      "image/png": {
       "height": 160,
       "width": 160
      }
     },
     "output_type": "display_data"
    },
    {
     "name": "stdout",
     "output_type": "stream",
     "text": [
      "img=0, epoch=120\n"
     ]
    },
    {
     "data": {
      "image/png": "[encoded data removed]",
      "text/plain": [
       "<IPython.core.display.Image object>"
      ]
     },
     "metadata": {
      "image/png": {
       "height": 160,
       "width": 160
      }
     },
     "output_type": "display_data"
    },
    {
     "name": "stdout",
     "output_type": "stream",
     "text": [
      "img=0, epoch=160\n"
     ]
    },
    {
     "data": {
      "image/png": "[encoded data removed]",
      "text/plain": [
       "<IPython.core.display.Image object>"
      ]
     },
     "metadata": {
      "image/png": {
       "height": 160,
       "width": 160
      }
     },
     "output_type": "display_data"
    },
    {
     "name": "stdout",
     "output_type": "stream",
     "text": [
      "img=0, epoch=200\n"
     ]
    }
   ],
   "source": [
    "n_img = 0\n",
    "\n",
    "for ep in range(epochs - (epochs//5)*4 - 1, epochs, epochs//5):\n",
    "    display(Image(f\"{path_img}generated_img_{n_img}_{ep}.png\", width=160, height=160))\n",
    "    print(f\"img={n_img}, epoch={ep+1}\")"
   ]
  }
 ],
 "metadata": {
  "accelerator": "GPU",
  "colab": {
   "collapsed_sections": [],
   "name": "Lesson_8.ipynb",
   "provenance": []
  },
  "kernelspec": {
   "display_name": "Python 3",
   "language": "python",
   "name": "python3"
  },
  "language_info": {
   "codemirror_mode": {
    "name": "ipython",
    "version": 3
   },
   "file_extension": ".py",
   "mimetype": "text/x-python",
   "name": "python",
   "nbconvert_exporter": "python",
   "pygments_lexer": "ipython3",
   "version": "3.8.3"
  }
 },
 "nbformat": 4,
 "nbformat_minor": 1
}
