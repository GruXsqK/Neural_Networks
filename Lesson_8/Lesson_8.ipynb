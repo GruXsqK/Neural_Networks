{
 "cells": [
  {
   "cell_type": "markdown",
   "metadata": {
    "colab_type": "text",
    "id": "Zd6AEw6-rgt0"
   },
   "source": [
    "__Попробуйте улучшить работу нейронной сети рассмотренной в методическом пособии. Приложите анализ. Приложете лучшее сгенерированное изображение к уроку.__"
   ]
  },
  {
   "cell_type": "code",
   "execution_count": 1,
   "metadata": {
    "colab": {},
    "colab_type": "code",
    "id": "JCd5CNisrKLS"
   },
   "outputs": [],
   "source": [
    "import tensorflow as tf\n",
    "from tensorflow import keras\n",
    "from tensorflow.keras import layers\n",
    "import numpy as np\n",
    "from IPython.display import Image, display"
   ]
  },
  {
   "cell_type": "code",
   "execution_count": 2,
   "metadata": {},
   "outputs": [
    {
     "name": "stdout",
     "output_type": "stream",
     "text": [
      "Is there a GPU available:\n",
      "[PhysicalDevice(name='/physical_device:GPU:0', device_type='GPU')]\n"
     ]
    }
   ],
   "source": [
    "print(f\"Is there a GPU available:\\n{tf.config.experimental.list_physical_devices('GPU')}\")"
   ]
  },
  {
   "cell_type": "code",
   "execution_count": 3,
   "metadata": {},
   "outputs": [
    {
     "data": {
      "text/plain": [
       "(60000, 32, 32, 3)"
      ]
     },
     "execution_count": 3,
     "metadata": {},
     "output_type": "execute_result"
    }
   ],
   "source": [
    "(x_train, _), (x_test, _) = tf.keras.datasets.cifar10.load_data()\n",
    "all_cifar = np.concatenate([x_train, x_test])\n",
    "all_cifar = np.reshape(all_cifar, (-1, 32, 32, 3))\n",
    "all_cifar.shape"
   ]
  },
  {
   "cell_type": "code",
   "execution_count": 4,
   "metadata": {
    "colab": {
     "base_uri": "https://localhost:8080/",
     "height": 51
    },
    "colab_type": "code",
    "id": "WFVU8J2xrv3N",
    "outputId": "5ba9d124-d930-40e5-82ee-d753185b846e"
   },
   "outputs": [],
   "source": [
    "# Cifar10 \n",
    "batch_size = 64\n",
    "(x_train, _), (x_test, _) = tf.keras.datasets.cifar10.load_data()\n",
    "all_cifar = np.concatenate([x_train, x_test])\n",
    "all_cifar = all_cifar.astype(\"float32\") / 127.5 - 1\n",
    "dataset = tf.data.Dataset.from_tensor_slices(all_cifar)\n",
    "dataset = dataset.shuffle(buffer_size=1024).batch(batch_size).prefetch(32)"
   ]
  },
  {
   "cell_type": "code",
   "execution_count": 5,
   "metadata": {
    "colab": {
     "base_uri": "https://localhost:8080/",
     "height": 357
    },
    "colab_type": "code",
    "id": "j5-Wbapds1un",
    "outputId": "29abbb5a-59d0-4122-8cd6-241e3bb3a40c"
   },
   "outputs": [
    {
     "name": "stdout",
     "output_type": "stream",
     "text": [
      "Model: \"discriminator\"\n",
      "_________________________________________________________________\n",
      "Layer (type)                 Output Shape              Param #   \n",
      "=================================================================\n",
      "conv2d (Conv2D)              (None, 32, 32, 64)        1792      \n",
      "_________________________________________________________________\n",
      "leaky_re_lu (LeakyReLU)      (None, 32, 32, 64)        0         \n",
      "_________________________________________________________________\n",
      "conv2d_1 (Conv2D)            (None, 16, 16, 128)       73856     \n",
      "_________________________________________________________________\n",
      "leaky_re_lu_1 (LeakyReLU)    (None, 16, 16, 128)       0         \n",
      "_________________________________________________________________\n",
      "conv2d_2 (Conv2D)            (None, 8, 8, 128)         147584    \n",
      "_________________________________________________________________\n",
      "leaky_re_lu_2 (LeakyReLU)    (None, 8, 8, 128)         0         \n",
      "_________________________________________________________________\n",
      "conv2d_3 (Conv2D)            (None, 4, 4, 256)         295168    \n",
      "_________________________________________________________________\n",
      "leaky_re_lu_3 (LeakyReLU)    (None, 4, 4, 256)         0         \n",
      "_________________________________________________________________\n",
      "flatten (Flatten)            (None, 4096)              0         \n",
      "_________________________________________________________________\n",
      "dropout (Dropout)            (None, 4096)              0         \n",
      "_________________________________________________________________\n",
      "dense (Dense)                (None, 1)                 4097      \n",
      "=================================================================\n",
      "Total params: 522,497\n",
      "Trainable params: 522,497\n",
      "Non-trainable params: 0\n",
      "_________________________________________________________________\n"
     ]
    }
   ],
   "source": [
    "discriminator = keras.Sequential(\n",
    "    [\n",
    "        keras.Input(shape=(32, 32, 3)),\n",
    "        layers.Conv2D(64, (3, 3), padding=\"same\"),\n",
    "        layers.LeakyReLU(alpha=0.2),\n",
    "        layers.Conv2D(128, (3, 3), strides=(2, 2), padding=\"same\"),\n",
    "        layers.LeakyReLU(alpha=0.2),\n",
    "        layers.Conv2D(128, (3, 3), strides=(2, 2), padding=\"same\"),\n",
    "        layers.LeakyReLU(alpha=0.2),\n",
    "        layers.Conv2D(256, (3, 3), strides=(2, 2), padding=\"same\"),\n",
    "        layers.LeakyReLU(alpha=0.2),\n",
    "        layers.Flatten(),\n",
    "        layers.Dropout(0.2),\n",
    "        layers.Dense(1),\n",
    "    ],\n",
    "    name=\"discriminator\",\n",
    ")\n",
    "\n",
    "discriminator.summary()"
   ]
  },
  {
   "cell_type": "code",
   "execution_count": 6,
   "metadata": {
    "colab": {
     "base_uri": "https://localhost:8080/",
     "height": 425
    },
    "colab_type": "code",
    "id": "BtTjh35Xs7LN",
    "outputId": "7bf7be52-1391-4759-d4fa-db0f1b8a553a"
   },
   "outputs": [
    {
     "name": "stdout",
     "output_type": "stream",
     "text": [
      "Model: \"generator\"\n",
      "_________________________________________________________________\n",
      "Layer (type)                 Output Shape              Param #   \n",
      "=================================================================\n",
      "dense_1 (Dense)              (None, 4096)              266240    \n",
      "_________________________________________________________________\n",
      "leaky_re_lu_4 (LeakyReLU)    (None, 4096)              0         \n",
      "_________________________________________________________________\n",
      "reshape (Reshape)            (None, 4, 4, 256)         0         \n",
      "_________________________________________________________________\n",
      "conv2d_transpose (Conv2DTran (None, 8, 8, 128)         524416    \n",
      "_________________________________________________________________\n",
      "leaky_re_lu_5 (LeakyReLU)    (None, 8, 8, 128)         0         \n",
      "_________________________________________________________________\n",
      "conv2d_transpose_1 (Conv2DTr (None, 16, 16, 128)       262272    \n",
      "_________________________________________________________________\n",
      "leaky_re_lu_6 (LeakyReLU)    (None, 16, 16, 128)       0         \n",
      "_________________________________________________________________\n",
      "conv2d_transpose_2 (Conv2DTr (None, 32, 32, 128)       262272    \n",
      "_________________________________________________________________\n",
      "leaky_re_lu_7 (LeakyReLU)    (None, 32, 32, 128)       0         \n",
      "_________________________________________________________________\n",
      "conv2d_4 (Conv2D)            (None, 32, 32, 3)         3459      \n",
      "=================================================================\n",
      "Total params: 1,318,659\n",
      "Trainable params: 1,318,659\n",
      "Non-trainable params: 0\n",
      "_________________________________________________________________\n"
     ]
    }
   ],
   "source": [
    "latent_dim = 64\n",
    "\n",
    "generator = keras.Sequential(\n",
    "    [\n",
    "        keras.Input(shape=(latent_dim,)),\n",
    "        # строим размер входного вектора 8x8x128 map\n",
    "        layers.Dense(4 * 4 * 256),\n",
    "        layers.LeakyReLU(alpha=0.2),\n",
    "        layers.Reshape((4, 4, 256)),\n",
    "        layers.Conv2DTranspose(128, (4, 4), strides=(2, 2), padding=\"same\"),\n",
    "        layers.LeakyReLU(alpha=0.2),\n",
    "        layers.Conv2DTranspose(128, (4, 4), strides=(2, 2), padding=\"same\"),\n",
    "        layers.LeakyReLU(alpha=0.2),\n",
    "        layers.Conv2DTranspose(128, (4, 4), strides=(2, 2), padding=\"same\"),\n",
    "        layers.LeakyReLU(alpha=0.2),\n",
    "        layers.Conv2D(3, (3, 3), padding=\"same\", activation=\"tanh\"),\n",
    "    ],\n",
    "    name=\"generator\",\n",
    ")\n",
    "\n",
    "generator.summary()"
   ]
  },
  {
   "cell_type": "code",
   "execution_count": 7,
   "metadata": {
    "colab": {},
    "colab_type": "code",
    "id": "RrgpC8k-s8sq"
   },
   "outputs": [],
   "source": [
    "class GAN(keras.Model):\n",
    "    def __init__(self, discriminator, generator, latent_dim):\n",
    "        super(GAN, self).__init__()\n",
    "        self.discriminator = discriminator\n",
    "        self.generator = generator\n",
    "        self.latent_dim = latent_dim\n",
    "\n",
    "    def compile(self, d_optimizer, g_optimizer, loss_fn):\n",
    "        super(GAN, self).compile()\n",
    "        self.d_optimizer = d_optimizer\n",
    "        self.g_optimizer = g_optimizer\n",
    "        self.loss_fn = loss_fn\n",
    "\n",
    "    def train_step(self, real_images):\n",
    "        if isinstance(real_images, tuple):\n",
    "            real_images = real_images[0]\n",
    "        # берем случайный пример из скрытого пространства\n",
    "        batch_size = tf.shape(real_images)[0]\n",
    "        random_latent_vectors = tf.random.normal(shape=(batch_size, self.latent_dim))\n",
    "\n",
    "        # Строим по нему фейковое изображение\n",
    "        generated_images = self.generator(random_latent_vectors)\n",
    "\n",
    "        # собрали с реальным в тензор\n",
    "        combined_images = tf.concat([generated_images, real_images], axis=0)\n",
    "\n",
    "        # задаем метки 1 и 0 соответственно\n",
    "        labels = tf.concat(\n",
    "            [tf.ones((batch_size, 1)), tf.zeros((batch_size, 1))], axis=0\n",
    "        )\n",
    "        # Добавляем шум !!!\n",
    "        labels += 0.05 * tf.random.uniform(tf.shape(labels))\n",
    "\n",
    "        # учим discriminator\n",
    "        with tf.GradientTape() as tape:\n",
    "            predictions = self.discriminator(combined_images)\n",
    "            d_loss = self.loss_fn(labels, predictions)\n",
    "        grads = tape.gradient(d_loss, self.discriminator.trainable_weights)\n",
    "        self.d_optimizer.apply_gradients(\n",
    "            zip(grads, self.discriminator.trainable_weights)\n",
    "        )\n",
    "\n",
    "        #Выбрали случайный пример в скрытом пространстве\n",
    "        random_latent_vectors = tf.random.normal(shape=(batch_size, self.latent_dim))\n",
    "\n",
    "        # собрали метки реальных изображений\n",
    "        misleading_labels = tf.zeros((batch_size, 1))\n",
    "\n",
    "        # Учим generator !\n",
    "        with tf.GradientTape() as tape:\n",
    "            predictions = self.discriminator(self.generator(random_latent_vectors))\n",
    "            g_loss = self.loss_fn(misleading_labels, predictions)\n",
    "        grads = tape.gradient(g_loss, self.generator.trainable_weights)\n",
    "        self.g_optimizer.apply_gradients(zip(grads, self.generator.trainable_weights))\n",
    "        return {\"d_loss\": d_loss, \"g_loss\": g_loss}"
   ]
  },
  {
   "cell_type": "code",
   "execution_count": 8,
   "metadata": {
    "colab": {},
    "colab_type": "code",
    "id": "powQMMDgtDPh"
   },
   "outputs": [],
   "source": [
    "path_img = \"../data/img/\"\n",
    "\n",
    "class GANMonitor(keras.callbacks.Callback):\n",
    "    def __init__(self, num_img=3, latent_dim=128):\n",
    "        self.num_img = num_img\n",
    "        self.latent_dim = latent_dim\n",
    "\n",
    "    def on_epoch_end(self, epoch, logs=None):\n",
    "        random_latent_vectors = tf.random.normal(shape=(self.num_img, self.latent_dim))\n",
    "        generated_images = self.model.generator(random_latent_vectors)\n",
    "        generated_images *= 255\n",
    "        generated_images.numpy()\n",
    "        for i in range(self.num_img):\n",
    "            img = keras.preprocessing.image.array_to_img(generated_images[i])\n",
    "            img.save(f\"{path_img}generated_img_{i}_{epoch}.png\")"
   ]
  },
  {
   "cell_type": "code",
   "execution_count": 9,
   "metadata": {
    "colab": {
     "base_uri": "https://localhost:8080/",
     "height": 391
    },
    "colab_type": "code",
    "id": "gPzeovA4tF9z",
    "outputId": "a648f420-aa3a-4b73-de35-ce672f2f1ac1"
   },
   "outputs": [
    {
     "name": "stdout",
     "output_type": "stream",
     "text": [
      "Epoch 1/200\n",
      "938/938 [==============================] - 209s 223ms/step - d_loss: 0.4820 - g_loss: 1.9791\n",
      "Epoch 2/200\n",
      "938/938 [==============================] - 217s 231ms/step - d_loss: 0.5769 - g_loss: 1.2706\n",
      "Epoch 3/200\n",
      "938/938 [==============================] - 216s 231ms/step - d_loss: 0.5248 - g_loss: 1.5206\n",
      "Epoch 4/200\n",
      "938/938 [==============================] - 224s 239ms/step - d_loss: 0.5204 - g_loss: 1.5186\n",
      "Epoch 5/200\n",
      "938/938 [==============================] - 225s 240ms/step - d_loss: 0.5206 - g_loss: 1.4717\n",
      "Epoch 6/200\n",
      "938/938 [==============================] - 216s 230ms/step - d_loss: 0.5927 - g_loss: 1.0951\n",
      "Epoch 7/200\n",
      "938/938 [==============================] - 215s 229ms/step - d_loss: 0.6160 - g_loss: 1.0221\n",
      "Epoch 8/200\n",
      "938/938 [==============================] - 218s 232ms/step - d_loss: 0.6151 - g_loss: 1.0222\n",
      "Epoch 9/200\n",
      "938/938 [==============================] - 235s 250ms/step - d_loss: 0.6119 - g_loss: 1.0425\n",
      "Epoch 10/200\n",
      "938/938 [==============================] - 213s 227ms/step - d_loss: 0.6118 - g_loss: 1.0312\n",
      "Epoch 11/200\n",
      "938/938 [==============================] - 233s 249ms/step - d_loss: 0.6132 - g_loss: 1.0213\n",
      "Epoch 12/200\n",
      "938/938 [==============================] - 217s 231ms/step - d_loss: 0.6137 - g_loss: 1.0167\n",
      "Epoch 13/200\n",
      "938/938 [==============================] - 216s 230ms/step - d_loss: 0.6124 - g_loss: 1.0138\n",
      "Epoch 14/200\n",
      "938/938 [==============================] - 226s 241ms/step - d_loss: 0.6081 - g_loss: 1.0269\n",
      "Epoch 15/200\n",
      "938/938 [==============================] - 219s 234ms/step - d_loss: 0.6124 - g_loss: 1.0174\n",
      "Epoch 16/200\n",
      "938/938 [==============================] - 220s 235ms/step - d_loss: 0.6134 - g_loss: 1.0058\n",
      "Epoch 17/200\n",
      "938/938 [==============================] - 225s 240ms/step - d_loss: 0.6115 - g_loss: 1.0128\n",
      "Epoch 18/200\n",
      "938/938 [==============================] - 226s 241ms/step - d_loss: 0.6107 - g_loss: 1.0143\n",
      "Epoch 19/200\n",
      "938/938 [==============================] - 227s 241ms/step - d_loss: 0.6104 - g_loss: 1.0194\n",
      "Epoch 20/200\n",
      "938/938 [==============================] - 225s 240ms/step - d_loss: 0.6059 - g_loss: 1.0277\n",
      "Epoch 21/200\n",
      "938/938 [==============================] - 228s 243ms/step - d_loss: 0.6026 - g_loss: 1.0324\n",
      "Epoch 22/200\n",
      "938/938 [==============================] - 230s 245ms/step - d_loss: 0.6013 - g_loss: 1.0382\n",
      "Epoch 23/200\n",
      "938/938 [==============================] - 226s 241ms/step - d_loss: 0.5976 - g_loss: 1.0440\n",
      "Epoch 24/200\n",
      "938/938 [==============================] - 230s 245ms/step - d_loss: 0.5938 - g_loss: 1.0538\n",
      "Epoch 25/200\n",
      "938/938 [==============================] - 228s 243ms/step - d_loss: 0.5902 - g_loss: 1.0679\n",
      "Epoch 26/200\n",
      "938/938 [==============================] - 230s 245ms/step - d_loss: 0.5851 - g_loss: 1.0760\n",
      "Epoch 27/200\n",
      "938/938 [==============================] - 223s 238ms/step - d_loss: 0.5825 - g_loss: 1.0918\n",
      "Epoch 28/200\n",
      "938/938 [==============================] - 247s 263ms/step - d_loss: 0.5770 - g_loss: 1.0985\n",
      "Epoch 29/200\n",
      "938/938 [==============================] - 220s 235ms/step - d_loss: 0.5752 - g_loss: 1.1183\n",
      "Epoch 30/200\n",
      "938/938 [==============================] - 226s 241ms/step - d_loss: 0.5691 - g_loss: 1.1228\n",
      "Epoch 31/200\n",
      "938/938 [==============================] - 229s 244ms/step - d_loss: 0.5663 - g_loss: 1.1363\n",
      "Epoch 32/200\n",
      "938/938 [==============================] - 230s 245ms/step - d_loss: 0.5631 - g_loss: 1.1449\n",
      "Epoch 33/200\n",
      "938/938 [==============================] - 225s 240ms/step - d_loss: 0.5589 - g_loss: 1.1600\n",
      "Epoch 34/200\n",
      "938/938 [==============================] - 229s 244ms/step - d_loss: 0.5549 - g_loss: 1.1774\n",
      "Epoch 35/200\n",
      "938/938 [==============================] - 228s 243ms/step - d_loss: 0.5512 - g_loss: 1.1801\n",
      "Epoch 36/200\n",
      "938/938 [==============================] - 230s 245ms/step - d_loss: 0.5488 - g_loss: 1.1996\n",
      "Epoch 37/200\n",
      "938/938 [==============================] - 229s 244ms/step - d_loss: 0.5429 - g_loss: 1.2071\n",
      "Epoch 38/200\n",
      "938/938 [==============================] - 229s 244ms/step - d_loss: 0.5400 - g_loss: 1.2272\n",
      "Epoch 39/200\n",
      "938/938 [==============================] - 226s 241ms/step - d_loss: 0.5378 - g_loss: 1.2329\n",
      "Epoch 40/200\n",
      "938/938 [==============================] - 229s 244ms/step - d_loss: 0.5357 - g_loss: 1.2485\n",
      "Epoch 41/200\n",
      "938/938 [==============================] - 228s 243ms/step - d_loss: 0.5294 - g_loss: 1.2589\n",
      "Epoch 42/200\n",
      "938/938 [==============================] - 226s 241ms/step - d_loss: 0.5256 - g_loss: 1.2738\n",
      "Epoch 43/200\n",
      "938/938 [==============================] - 221s 236ms/step - d_loss: 0.5226 - g_loss: 1.2807\n",
      "Epoch 44/200\n",
      "938/938 [==============================] - 231s 246ms/step - d_loss: 0.5189 - g_loss: 1.2951\n",
      "Epoch 45/200\n",
      "938/938 [==============================] - 228s 243ms/step - d_loss: 0.5145 - g_loss: 1.3129\n",
      "Epoch 46/200\n",
      "938/938 [==============================] - 230s 245ms/step - d_loss: 0.5132 - g_loss: 1.3128\n",
      "Epoch 47/200\n",
      "938/938 [==============================] - 226s 241ms/step - d_loss: 0.5097 - g_loss: 1.3320\n",
      "Epoch 48/200\n",
      "938/938 [==============================] - 229s 244ms/step - d_loss: 0.5068 - g_loss: 1.3476\n",
      "Epoch 49/200\n",
      "938/938 [==============================] - 225s 240ms/step - d_loss: 0.5005 - g_loss: 1.3608\n",
      "Epoch 50/200\n",
      "938/938 [==============================] - 229s 244ms/step - d_loss: 0.5001 - g_loss: 1.3669\n",
      "Epoch 51/200\n",
      "938/938 [==============================] - 222s 236ms/step - d_loss: 0.4950 - g_loss: 1.3859\n",
      "Epoch 52/200\n",
      "938/938 [==============================] - 226s 240ms/step - d_loss: 0.4918 - g_loss: 1.4031\n",
      "Epoch 53/200\n",
      "938/938 [==============================] - 229s 244ms/step - d_loss: 0.4881 - g_loss: 1.4124\n",
      "Epoch 54/200\n",
      "938/938 [==============================] - 228s 243ms/step - d_loss: 0.4842 - g_loss: 1.4326\n",
      "Epoch 55/200\n",
      "938/938 [==============================] - 230s 245ms/step - d_loss: 0.4819 - g_loss: 1.4428\n",
      "Epoch 56/200\n",
      "938/938 [==============================] - 227s 242ms/step - d_loss: 0.4816 - g_loss: 1.4496\n",
      "Epoch 57/200\n",
      "938/938 [==============================] - 230s 245ms/step - d_loss: 0.4709 - g_loss: 1.4724\n",
      "Epoch 58/200\n",
      "938/938 [==============================] - 227s 242ms/step - d_loss: 0.4707 - g_loss: 1.4850\n",
      "Epoch 59/200\n",
      "938/938 [==============================] - 226s 241ms/step - d_loss: 0.4680 - g_loss: 1.5059\n",
      "Epoch 60/200\n",
      "938/938 [==============================] - 225s 240ms/step - d_loss: 0.4653 - g_loss: 1.5109\n",
      "Epoch 61/200\n",
      "938/938 [==============================] - 228s 243ms/step - d_loss: 0.4600 - g_loss: 1.5329\n",
      "Epoch 62/200\n",
      "938/938 [==============================] - 230s 245ms/step - d_loss: 0.4566 - g_loss: 1.5490\n",
      "Epoch 63/200\n",
      "938/938 [==============================] - 227s 242ms/step - d_loss: 0.4529 - g_loss: 1.5586\n",
      "Epoch 64/200\n",
      "938/938 [==============================] - 229s 245ms/step - d_loss: 0.4486 - g_loss: 1.5776\n",
      "Epoch 65/200\n",
      "938/938 [==============================] - 225s 239ms/step - d_loss: 0.4468 - g_loss: 1.5907\n",
      "Epoch 66/200\n",
      "938/938 [==============================] - 228s 243ms/step - d_loss: 0.4424 - g_loss: 1.6085\n",
      "Epoch 67/200\n",
      "938/938 [==============================] - 227s 242ms/step - d_loss: 0.4375 - g_loss: 1.6328\n",
      "Epoch 68/200\n",
      "938/938 [==============================] - 230s 245ms/step - d_loss: 0.4360 - g_loss: 1.6453\n",
      "Epoch 69/200\n",
      "938/938 [==============================] - 227s 242ms/step - d_loss: 0.4322 - g_loss: 1.6739\n",
      "Epoch 70/200\n",
      "938/938 [==============================] - 230s 245ms/step - d_loss: 0.4305 - g_loss: 1.6878\n",
      "Epoch 71/200\n",
      "938/938 [==============================] - 224s 239ms/step - d_loss: 0.4258 - g_loss: 1.6938\n",
      "Epoch 72/200\n",
      "938/938 [==============================] - 225s 240ms/step - d_loss: 0.4224 - g_loss: 1.7184\n",
      "Epoch 73/200\n",
      "938/938 [==============================] - 229s 244ms/step - d_loss: 0.4196 - g_loss: 1.7361\n",
      "Epoch 74/200\n",
      "938/938 [==============================] - 230s 245ms/step - d_loss: 0.4162 - g_loss: 1.7501\n",
      "Epoch 75/200\n",
      "938/938 [==============================] - 228s 243ms/step - d_loss: 0.4101 - g_loss: 1.7772\n",
      "Epoch 76/200\n",
      "938/938 [==============================] - 225s 240ms/step - d_loss: 0.4072 - g_loss: 1.7869\n",
      "Epoch 77/200\n",
      "938/938 [==============================] - 225s 240ms/step - d_loss: 0.4054 - g_loss: 1.8160\n",
      "Epoch 78/200\n"
     ]
    },
    {
     "name": "stdout",
     "output_type": "stream",
     "text": [
      "938/938 [==============================] - 227s 242ms/step - d_loss: 0.4011 - g_loss: 1.8270\n",
      "Epoch 79/200\n",
      "938/938 [==============================] - 227s 242ms/step - d_loss: 0.3971 - g_loss: 1.8433\n",
      "Epoch 80/200\n",
      "938/938 [==============================] - 222s 237ms/step - d_loss: 0.3926 - g_loss: 1.8622\n",
      "Epoch 81/200\n",
      "938/938 [==============================] - 225s 240ms/step - d_loss: 0.3933 - g_loss: 1.8872\n",
      "Epoch 82/200\n",
      "938/938 [==============================] - 229s 244ms/step - d_loss: 0.3890 - g_loss: 1.9083\n",
      "Epoch 83/200\n",
      "938/938 [==============================] - 227s 242ms/step - d_loss: 0.3852 - g_loss: 1.9296\n",
      "Epoch 84/200\n",
      "938/938 [==============================] - 227s 242ms/step - d_loss: 0.3814 - g_loss: 1.9423\n",
      "Epoch 85/200\n",
      "938/938 [==============================] - 230s 245ms/step - d_loss: 0.3772 - g_loss: 1.9529\n",
      "Epoch 86/200\n",
      "938/938 [==============================] - 228s 243ms/step - d_loss: 0.3752 - g_loss: 1.9752\n",
      "Epoch 87/200\n",
      "938/938 [==============================] - 228s 243ms/step - d_loss: 0.3712 - g_loss: 2.0067\n",
      "Epoch 88/200\n",
      "938/938 [==============================] - 227s 242ms/step - d_loss: 0.3680 - g_loss: 2.0215\n",
      "Epoch 89/200\n",
      "938/938 [==============================] - 230s 245ms/step - d_loss: 0.3621 - g_loss: 2.0423\n",
      "Epoch 90/200\n",
      "938/938 [==============================] - 226s 241ms/step - d_loss: 0.3630 - g_loss: 2.0687\n",
      "Epoch 91/200\n",
      "938/938 [==============================] - 230s 245ms/step - d_loss: 0.3584 - g_loss: 2.0758\n",
      "Epoch 92/200\n",
      "938/938 [==============================] - 227s 242ms/step - d_loss: 0.3551 - g_loss: 2.1022\n",
      "Epoch 93/200\n",
      "938/938 [==============================] - 230s 245ms/step - d_loss: 0.3534 - g_loss: 2.1294\n",
      "Epoch 94/200\n",
      "938/938 [==============================] - 227s 242ms/step - d_loss: 0.3498 - g_loss: 2.1350\n",
      "Epoch 95/200\n",
      "938/938 [==============================] - 230s 245ms/step - d_loss: 0.3453 - g_loss: 2.1686\n",
      "Epoch 96/200\n",
      "938/938 [==============================] - 227s 242ms/step - d_loss: 0.3410 - g_loss: 2.1918\n",
      "Epoch 97/200\n",
      "938/938 [==============================] - 230s 245ms/step - d_loss: 0.3389 - g_loss: 2.2274\n",
      "Epoch 98/200\n",
      "938/938 [==============================] - 230s 245ms/step - d_loss: 0.3388 - g_loss: 2.2366\n",
      "Epoch 99/200\n",
      "938/938 [==============================] - 227s 242ms/step - d_loss: 0.3364 - g_loss: 2.2410\n",
      "Epoch 100/200\n",
      "938/938 [==============================] - 228s 243ms/step - d_loss: 0.3320 - g_loss: 2.2711\n",
      "Epoch 101/200\n",
      "938/938 [==============================] - 230s 245ms/step - d_loss: 0.3298 - g_loss: 2.2898\n",
      "Epoch 102/200\n",
      "938/938 [==============================] - 227s 242ms/step - d_loss: 0.3260 - g_loss: 2.3119\n",
      "Epoch 103/200\n",
      "938/938 [==============================] - 228s 243ms/step - d_loss: 0.3231 - g_loss: 2.3323\n",
      "Epoch 104/200\n",
      "938/938 [==============================] - 225s 239ms/step - d_loss: 0.3200 - g_loss: 2.3644\n",
      "Epoch 105/200\n",
      "938/938 [==============================] - 226s 241ms/step - d_loss: 0.3176 - g_loss: 2.3802\n",
      "Epoch 106/200\n",
      "938/938 [==============================] - 226s 241ms/step - d_loss: 0.3154 - g_loss: 2.4039\n",
      "Epoch 107/200\n",
      "938/938 [==============================] - 225s 240ms/step - d_loss: 0.3132 - g_loss: 2.4185\n",
      "Epoch 108/200\n",
      "938/938 [==============================] - 229s 244ms/step - d_loss: 0.3093 - g_loss: 2.4464\n",
      "Epoch 109/200\n",
      "938/938 [==============================] - 230s 245ms/step - d_loss: 0.3049 - g_loss: 2.4838\n",
      "Epoch 110/200\n",
      "938/938 [==============================] - 230s 245ms/step - d_loss: 0.3078 - g_loss: 2.4937\n",
      "Epoch 111/200\n",
      "938/938 [==============================] - 227s 242ms/step - d_loss: 0.2986 - g_loss: 2.5251\n",
      "Epoch 112/200\n",
      "938/938 [==============================] - 225s 240ms/step - d_loss: 0.3006 - g_loss: 2.5544\n",
      "Epoch 113/200\n",
      "938/938 [==============================] - 230s 245ms/step - d_loss: 0.2927 - g_loss: 2.5683\n",
      "Epoch 114/200\n",
      "938/938 [==============================] - 228s 244ms/step - d_loss: 0.2960 - g_loss: 2.5966\n",
      "Epoch 115/200\n",
      "938/938 [==============================] - 230s 245ms/step - d_loss: 0.2903 - g_loss: 2.6275\n",
      "Epoch 116/200\n",
      "938/938 [==============================] - 224s 238ms/step - d_loss: 0.2879 - g_loss: 2.6431\n",
      "Epoch 117/200\n",
      "938/938 [==============================] - 223s 238ms/step - d_loss: 0.2861 - g_loss: 2.6550\n",
      "Epoch 118/200\n",
      "938/938 [==============================] - 229s 244ms/step - d_loss: 0.2818 - g_loss: 2.6917\n",
      "Epoch 119/200\n",
      "938/938 [==============================] - 227s 242ms/step - d_loss: 0.2886 - g_loss: 2.7105\n",
      "Epoch 120/200\n",
      "938/938 [==============================] - 230s 245ms/step - d_loss: 0.2748 - g_loss: 2.7364\n",
      "Epoch 121/200\n",
      "938/938 [==============================] - 230s 245ms/step - d_loss: 0.2761 - g_loss: 2.7703\n",
      "Epoch 122/200\n",
      "938/938 [==============================] - 223s 238ms/step - d_loss: 0.2817 - g_loss: 2.7598\n",
      "Epoch 123/200\n",
      "938/938 [==============================] - 226s 241ms/step - d_loss: 0.2695 - g_loss: 2.8030\n",
      "Epoch 124/200\n",
      "938/938 [==============================] - 230s 245ms/step - d_loss: 0.2687 - g_loss: 2.8329\n",
      "Epoch 125/200\n",
      "938/938 [==============================] - 228s 243ms/step - d_loss: 0.2669 - g_loss: 2.8657\n",
      "Epoch 126/200\n",
      "938/938 [==============================] - 228s 243ms/step - d_loss: 0.2645 - g_loss: 2.8930\n",
      "Epoch 127/200\n",
      "938/938 [==============================] - 230s 245ms/step - d_loss: 0.2642 - g_loss: 2.8978\n",
      "Epoch 128/200\n",
      "938/938 [==============================] - 236s 252ms/step - d_loss: 0.2634 - g_loss: 2.9094\n",
      "Epoch 129/200\n",
      "938/938 [==============================] - 236s 251ms/step - d_loss: 0.2585 - g_loss: 2.9649\n",
      "Epoch 130/200\n",
      "938/938 [==============================] - 236s 252ms/step - d_loss: 0.2593 - g_loss: 2.9622\n",
      "Epoch 131/200\n",
      "938/938 [==============================] - 236s 251ms/step - d_loss: 0.2577 - g_loss: 2.9910\n",
      "Epoch 132/200\n",
      "938/938 [==============================] - 245s 261ms/step - d_loss: 0.2508 - g_loss: 3.0327\n",
      "Epoch 133/200\n",
      "938/938 [==============================] - 257s 274ms/step - d_loss: 0.2487 - g_loss: 3.0446\n",
      "Epoch 134/200\n",
      "938/938 [==============================] - 232s 247ms/step - d_loss: 0.2466 - g_loss: 3.0840\n",
      "Epoch 135/200\n",
      "938/938 [==============================] - 236s 252ms/step - d_loss: 0.2479 - g_loss: 3.1081\n",
      "Epoch 136/200\n",
      "938/938 [==============================] - 239s 255ms/step - d_loss: 0.2440 - g_loss: 3.1579\n",
      "Epoch 137/200\n",
      "938/938 [==============================] - 250s 266ms/step - d_loss: 0.2431 - g_loss: 3.1613\n",
      "Epoch 138/200\n",
      "938/938 [==============================] - 235s 250ms/step - d_loss: 0.2443 - g_loss: 3.1685\n",
      "Epoch 139/200\n",
      "938/938 [==============================] - 237s 252ms/step - d_loss: 0.2356 - g_loss: 3.2162\n",
      "Epoch 140/200\n",
      "938/938 [==============================] - 230s 246ms/step - d_loss: 0.2380 - g_loss: 3.2312\n",
      "Epoch 141/200\n",
      "938/938 [==============================] - 242s 258ms/step - d_loss: 0.2349 - g_loss: 3.2763\n",
      "Epoch 142/200\n",
      "938/938 [==============================] - 242s 258ms/step - d_loss: 0.2317 - g_loss: 3.2853\n",
      "Epoch 143/200\n",
      "938/938 [==============================] - 234s 249ms/step - d_loss: 0.2327 - g_loss: 3.3254\n",
      "Epoch 144/200\n",
      "938/938 [==============================] - 237s 252ms/step - d_loss: 0.2308 - g_loss: 3.3430\n",
      "Epoch 145/200\n",
      "938/938 [==============================] - 235s 251ms/step - d_loss: 0.2307 - g_loss: 3.3581\n",
      "Epoch 146/200\n",
      "938/938 [==============================] - 241s 256ms/step - d_loss: 0.2248 - g_loss: 3.4099\n",
      "Epoch 147/200\n",
      "938/938 [==============================] - 253s 270ms/step - d_loss: 0.2272 - g_loss: 3.4170\n",
      "Epoch 148/200\n",
      "938/938 [==============================] - 217s 231ms/step - d_loss: 0.2239 - g_loss: 3.4266\n",
      "Epoch 149/200\n",
      "938/938 [==============================] - 216s 231ms/step - d_loss: 0.2228 - g_loss: 3.4714\n",
      "Epoch 150/200\n",
      "938/938 [==============================] - 217s 231ms/step - d_loss: 0.2173 - g_loss: 3.5102\n",
      "Epoch 151/200\n",
      "938/938 [==============================] - 229s 244ms/step - d_loss: 0.2178 - g_loss: 3.5455\n",
      "Epoch 152/200\n",
      "938/938 [==============================] - 217s 232ms/step - d_loss: 0.2181 - g_loss: 3.5686\n",
      "Epoch 153/200\n",
      "938/938 [==============================] - 348s 371ms/step - d_loss: 0.2155 - g_loss: 3.6099\n",
      "Epoch 154/200\n"
     ]
    },
    {
     "name": "stdout",
     "output_type": "stream",
     "text": [
      "938/938 [==============================] - 230s 245ms/step - d_loss: 0.2139 - g_loss: 3.6353\n",
      "Epoch 155/200\n",
      "938/938 [==============================] - 214s 228ms/step - d_loss: 0.2141 - g_loss: 3.6441\n",
      "Epoch 156/200\n",
      "938/938 [==============================] - 217s 231ms/step - d_loss: 0.2147 - g_loss: 3.6577\n",
      "Epoch 157/200\n",
      "938/938 [==============================] - 219s 233ms/step - d_loss: 0.2153 - g_loss: 3.6931\n",
      "Epoch 158/200\n",
      "938/938 [==============================] - 218s 233ms/step - d_loss: 0.2190 - g_loss: 3.7386\n",
      "Epoch 159/200\n",
      "938/938 [==============================] - 220s 235ms/step - d_loss: 0.2205 - g_loss: 3.7233\n",
      "Epoch 160/200\n",
      "938/938 [==============================] - 218s 232ms/step - d_loss: 0.2203 - g_loss: 3.7536\n",
      "Epoch 161/200\n",
      "938/938 [==============================] - 223s 238ms/step - d_loss: 0.2270 - g_loss: 3.7517\n",
      "Epoch 162/200\n",
      "938/938 [==============================] - 217s 231ms/step - d_loss: 0.2244 - g_loss: 3.7522\n",
      "Epoch 163/200\n",
      "938/938 [==============================] - 216s 230ms/step - d_loss: 0.2249 - g_loss: 3.7562\n",
      "Epoch 164/200\n",
      "938/938 [==============================] - 220s 235ms/step - d_loss: 0.2265 - g_loss: 3.7496\n",
      "Epoch 165/200\n",
      "938/938 [==============================] - 220s 234ms/step - d_loss: 0.2209 - g_loss: 3.7582\n",
      "Epoch 166/200\n",
      "938/938 [==============================] - 217s 231ms/step - d_loss: 0.2229 - g_loss: 3.7687\n",
      "Epoch 167/200\n",
      "938/938 [==============================] - 220s 234ms/step - d_loss: 0.2252 - g_loss: 3.7617\n",
      "Epoch 168/200\n",
      "938/938 [==============================] - 222s 237ms/step - d_loss: 0.2275 - g_loss: 3.7611\n",
      "Epoch 169/200\n",
      "938/938 [==============================] - 225s 239ms/step - d_loss: 0.2281 - g_loss: 3.7447\n",
      "Epoch 170/200\n",
      "938/938 [==============================] - 226s 241ms/step - d_loss: 0.2241 - g_loss: 3.7867\n",
      "Epoch 171/200\n",
      "938/938 [==============================] - 226s 240ms/step - d_loss: 0.2259 - g_loss: 3.7748\n",
      "Epoch 172/200\n",
      "938/938 [==============================] - 220s 235ms/step - d_loss: 0.2229 - g_loss: 3.7925\n",
      "Epoch 173/200\n",
      "938/938 [==============================] - 237s 252ms/step - d_loss: 0.2244 - g_loss: 3.8168\n",
      "Epoch 174/200\n",
      "938/938 [==============================] - 240s 256ms/step - d_loss: 0.2194 - g_loss: 3.8020\n",
      "Epoch 175/200\n",
      "938/938 [==============================] - 214s 228ms/step - d_loss: 0.2197 - g_loss: 3.8390\n",
      "Epoch 176/200\n",
      "938/938 [==============================] - 217s 231ms/step - d_loss: 0.2216 - g_loss: 3.8533\n",
      "Epoch 177/200\n",
      "938/938 [==============================] - 219s 234ms/step - d_loss: 0.2199 - g_loss: 3.8646\n",
      "Epoch 178/200\n",
      "938/938 [==============================] - 216s 230ms/step - d_loss: 0.2237 - g_loss: 3.8783\n",
      "Epoch 179/200\n",
      "938/938 [==============================] - 219s 233ms/step - d_loss: 0.2152 - g_loss: 3.8954\n",
      "Epoch 180/200\n",
      "938/938 [==============================] - 222s 237ms/step - d_loss: 0.2198 - g_loss: 3.8755\n",
      "Epoch 181/200\n",
      "938/938 [==============================] - 217s 232ms/step - d_loss: 0.2178 - g_loss: 3.9044\n",
      "Epoch 182/200\n",
      "938/938 [==============================] - 219s 234ms/step - d_loss: 0.2210 - g_loss: 3.9014\n",
      "Epoch 183/200\n",
      "938/938 [==============================] - 219s 234ms/step - d_loss: 0.2256 - g_loss: 3.8919\n",
      "Epoch 184/200\n",
      "938/938 [==============================] - 220s 234ms/step - d_loss: 0.2162 - g_loss: 3.8864\n",
      "Epoch 185/200\n",
      "938/938 [==============================] - 222s 236ms/step - d_loss: 0.2166 - g_loss: 3.9218\n",
      "Epoch 186/200\n",
      "938/938 [==============================] - 230s 245ms/step - d_loss: 0.2166 - g_loss: 3.9618\n",
      "Epoch 187/200\n",
      "938/938 [==============================] - 225s 240ms/step - d_loss: 0.2213 - g_loss: 3.9182\n",
      "Epoch 188/200\n",
      "938/938 [==============================] - 226s 241ms/step - d_loss: 0.2194 - g_loss: 3.9614\n",
      "Epoch 189/200\n",
      "938/938 [==============================] - 227s 242ms/step - d_loss: 0.2194 - g_loss: 3.9846\n",
      "Epoch 190/200\n",
      "938/938 [==============================] - 222s 237ms/step - d_loss: 0.2211 - g_loss: 3.9625\n",
      "Epoch 191/200\n",
      "938/938 [==============================] - 220s 234ms/step - d_loss: 0.2199 - g_loss: 3.9568\n",
      "Epoch 192/200\n",
      "938/938 [==============================] - 220s 234ms/step - d_loss: 0.2181 - g_loss: 4.0078\n",
      "Epoch 193/200\n",
      "938/938 [==============================] - 219s 234ms/step - d_loss: 0.2228 - g_loss: 3.9958\n",
      "Epoch 194/200\n",
      "938/938 [==============================] - 219s 233ms/step - d_loss: 0.2195 - g_loss: 4.0173\n",
      "Epoch 195/200\n",
      "938/938 [==============================] - 233s 248ms/step - d_loss: 0.2209 - g_loss: 4.0161\n",
      "Epoch 196/200\n",
      "938/938 [==============================] - 215s 229ms/step - d_loss: 0.2190 - g_loss: 4.0243\n",
      "Epoch 197/200\n",
      "938/938 [==============================] - 219s 234ms/step - d_loss: 0.2248 - g_loss: 3.9983\n",
      "Epoch 198/200\n",
      "938/938 [==============================] - 224s 239ms/step - d_loss: 0.2212 - g_loss: 4.0075\n",
      "Epoch 199/200\n",
      "938/938 [==============================] - 224s 239ms/step - d_loss: 0.2243 - g_loss: 4.0399\n",
      "Epoch 200/200\n",
      "938/938 [==============================] - 229s 245ms/step - d_loss: 0.2248 - g_loss: 4.0125\n"
     ]
    },
    {
     "data": {
      "text/plain": [
       "<tensorflow.python.keras.callbacks.History at 0x2b88357a400>"
      ]
     },
     "execution_count": 9,
     "metadata": {},
     "output_type": "execute_result"
    }
   ],
   "source": [
    "epochs = 200\n",
    "img_nums = 5\n",
    "\n",
    "gan = GAN(discriminator=discriminator, generator=generator, latent_dim=latent_dim)\n",
    "gan.compile(\n",
    "    d_optimizer=keras.optimizers.Adam(learning_rate=0.0002, beta_1=0.5),\n",
    "    g_optimizer=keras.optimizers.Adam(learning_rate=0.0004, beta_1=0.5),\n",
    "    loss_fn=keras.losses.BinaryCrossentropy(from_logits=True),\n",
    ")\n",
    "\n",
    "gan.fit(\n",
    "    dataset, epochs=epochs, callbacks=[GANMonitor(num_img=img_nums, latent_dim=latent_dim)]\n",
    ")"
   ]
  },
  {
   "cell_type": "code",
   "execution_count": 14,
   "metadata": {
    "colab": {},
    "colab_type": "code",
    "id": "NkoMaWSgtJ-x"
   },
   "outputs": [
    {
     "data": {
      "image/png": "[encoded data removed]",
      "text/plain": [
       "<IPython.core.display.Image object>"
      ]
     },
     "metadata": {
      "image/png": {
       "height": 160,
       "width": 160
      }
     },
     "output_type": "display_data"
    },
    {
     "name": "stdout",
     "output_type": "stream",
     "text": [
      "img=0, epoch=200\n"
     ]
    },
    {
     "data": {
      "image/png": "[encoded data removed]",
      "text/plain": [
       "<IPython.core.display.Image object>"
      ]
     },
     "metadata": {
      "image/png": {
       "height": 160,
       "width": 160
      }
     },
     "output_type": "display_data"
    },
    {
     "name": "stdout",
     "output_type": "stream",
     "text": [
      "img=1, epoch=200\n"
     ]
    },
    {
     "data": {
      "image/png": "[encoded data removed]",
      "text/plain": [
       "<IPython.core.display.Image object>"
      ]
     },
     "metadata": {
      "image/png": {
       "height": 160,
       "width": 160
      }
     },
     "output_type": "display_data"
    },
    {
     "name": "stdout",
     "output_type": "stream",
     "text": [
      "img=2, epoch=200\n"
     ]
    },
    {
     "data": {
      "image/png": "[encoded data removed]",
      "text/plain": [
       "<IPython.core.display.Image object>"
      ]
     },
     "metadata": {
      "image/png": {
       "height": 160,
       "width": 160
      }
     },
     "output_type": "display_data"
    },
    {
     "name": "stdout",
     "output_type": "stream",
     "text": [
      "img=3, epoch=200\n"
     ]
    },
    {
     "data": {
      "image/png": "[encoded data removed]",
      "text/plain": [
       "<IPython.core.display.Image object>"
      ]
     },
     "metadata": {
      "image/png": {
       "height": 160,
       "width": 160
      }
     },
     "output_type": "display_data"
    },
    {
     "name": "stdout",
     "output_type": "stream",
     "text": [
      "img=4, epoch=200\n"
     ]
    }
   ],
   "source": [
    "for i in range(img_nums):\n",
    "    display(Image(f\"{path_img}generated_img_{i}_{epochs-1}.png\", width=160, height=160))\n",
    "    print(f\"img={i}, epoch={epochs}\")"
   ]
  },
  {
   "cell_type": "code",
   "execution_count": 17,
   "metadata": {
    "colab": {},
    "colab_type": "code",
    "id": "HYhR_xOItMjS"
   },
   "outputs": [
    {
     "data": {
      "image/png": "[encoded data removed]",
      "text/plain": [
       "<IPython.core.display.Image object>"
      ]
     },
     "metadata": {
      "image/png": {
       "height": 160,
       "width": 160
      }
     },
     "output_type": "display_data"
    },
    {
     "name": "stdout",
     "output_type": "stream",
     "text": [
      "img=0, epoch=40\n"
     ]
    },
    {
     "data": {
      "image/png": "[encoded data removed]",
      "text/plain": [
       "<IPython.core.display.Image object>"
      ]
     },
     "metadata": {
      "image/png": {
       "height": 160,
       "width": 160
      }
     },
     "output_type": "display_data"
    },
    {
     "name": "stdout",
     "output_type": "stream",
     "text": [
      "img=0, epoch=80\n"
     ]
    },
    {
     "data": {
      "image/png": "[encoded data removed]",
      "text/plain": [
       "<IPython.core.display.Image object>"
      ]
     },
     "metadata": {
      "image/png": {
       "height": 160,
       "width": 160
      }
     },
     "output_type": "display_data"
    },
    {
     "name": "stdout",
     "output_type": "stream",
     "text": [
      "img=0, epoch=120\n"
     ]
    },
    {
     "data": {
      "image/png": "[encoded data removed]",
      "text/plain": [
       "<IPython.core.display.Image object>"
      ]
     },
     "metadata": {
      "image/png": {
       "height": 160,
       "width": 160
      }
     },
     "output_type": "display_data"
    },
    {
     "name": "stdout",
     "output_type": "stream",
     "text": [
      "img=0, epoch=160\n"
     ]
    },
    {
     "data": {
      "image/png": "[encoded data removed]",
      "text/plain": [
       "<IPython.core.display.Image object>"
      ]
     },
     "metadata": {
      "image/png": {
       "height": 160,
       "width": 160
      }
     },
     "output_type": "display_data"
    },
    {
     "name": "stdout",
     "output_type": "stream",
     "text": [
      "img=0, epoch=200\n"
     ]
    }
   ],
   "source": [
    "n_img = 0\n",
    "\n",
    "for ep in range(epochs - (epochs//5)*4 - 1, epochs, epochs//5):\n",
    "    display(Image(f\"{path_img}generated_img_{n_img}_{ep}.png\", width=160, height=160))\n",
    "    print(f\"img={n_img}, epoch={ep+1}\")"
   ]
  }
 ],
 "metadata": {
  "accelerator": "GPU",
  "colab": {
   "collapsed_sections": [],
   "name": "Lesson_8.ipynb",
   "provenance": []
  },
  "kernelspec": {
   "display_name": "Python 3",
   "language": "python",
   "name": "python3"
  },
  "language_info": {
   "codemirror_mode": {
    "name": "ipython",
    "version": 3
   },
   "file_extension": ".py",
   "mimetype": "text/x-python",
   "name": "python",
   "nbconvert_exporter": "python",
   "pygments_lexer": "ipython3",
   "version": "3.8.3"
  }
 },
 "nbformat": 4,
 "nbformat_minor": 1
}
